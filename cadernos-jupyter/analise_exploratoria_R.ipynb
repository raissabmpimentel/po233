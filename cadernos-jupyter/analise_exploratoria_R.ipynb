{
 "cells": [
  {
   "cell_type": "markdown",
   "metadata": {},
   "source": [
    "# Análise exploratória de dados (R)"
   ]
  },
  {
   "cell_type": "markdown",
   "metadata": {},
   "source": [
    "## Instalar a biblioteca do `tidyverse`"
   ]
  },
  {
   "cell_type": "markdown",
   "metadata": {},
   "source": [
    "Se a biblioteca `tidyverse` e `e1071` não estiverem instaladas, pode ser instalada pelo repositório do CRAN (isto deve ser feito fora do `jupyter`):\n",
    "\n",
    "```\n",
    "install.packages(\"tidyverse\")\n",
    "install.packages(\"e1071\")\n",
    "```"
   ]
  },
  {
   "cell_type": "markdown",
   "metadata": {},
   "source": [
    "## Importar a biblioteca do `tidyverse` e do `e1071`"
   ]
  },
  {
   "cell_type": "code",
   "execution_count": 1,
   "metadata": {
    "ExecuteTime": {
     "end_time": "2020-07-08T19:19:15.495975Z",
     "start_time": "2020-07-08T19:19:14.253Z"
    }
   },
   "outputs": [
    {
     "name": "stderr",
     "output_type": "stream",
     "text": [
      "── \u001b[1mAttaching packages\u001b[22m ─────────────────────────────────────── tidyverse 1.3.0 ──\n",
      "\n",
      "\u001b[32m✔\u001b[39m \u001b[34mggplot2\u001b[39m 3.3.2     \u001b[32m✔\u001b[39m \u001b[34mpurrr  \u001b[39m 0.3.4\n",
      "\u001b[32m✔\u001b[39m \u001b[34mtibble \u001b[39m 3.0.2     \u001b[32m✔\u001b[39m \u001b[34mdplyr  \u001b[39m 1.0.0\n",
      "\u001b[32m✔\u001b[39m \u001b[34mtidyr  \u001b[39m 1.1.0     \u001b[32m✔\u001b[39m \u001b[34mstringr\u001b[39m 1.4.0\n",
      "\u001b[32m✔\u001b[39m \u001b[34mreadr  \u001b[39m 1.3.1     \u001b[32m✔\u001b[39m \u001b[34mforcats\u001b[39m 0.5.0\n",
      "\n",
      "── \u001b[1mConflicts\u001b[22m ────────────────────────────────────────── tidyverse_conflicts() ──\n",
      "\u001b[31m✖\u001b[39m \u001b[34mdplyr\u001b[39m::\u001b[32mfilter()\u001b[39m masks \u001b[34mstats\u001b[39m::filter()\n",
      "\u001b[31m✖\u001b[39m \u001b[34mdplyr\u001b[39m::\u001b[32mlag()\u001b[39m    masks \u001b[34mstats\u001b[39m::lag()\n",
      "\n"
     ]
    }
   ],
   "source": [
    "library(tidyverse)\n",
    "library(e1071)"
   ]
  },
  {
   "cell_type": "markdown",
   "metadata": {
    "ExecuteTime": {
     "end_time": "2020-07-08T19:14:29.649107Z",
     "start_time": "2020-07-08T19:14:29.628Z"
    }
   },
   "source": [
    "## Importando os dados"
   ]
  },
  {
   "cell_type": "code",
   "execution_count": 2,
   "metadata": {
    "ExecuteTime": {
     "end_time": "2020-07-08T19:19:17.661924Z",
     "start_time": "2020-07-08T19:19:17.580Z"
    }
   },
   "outputs": [
    {
     "name": "stderr",
     "output_type": "stream",
     "text": [
      "Using ',' as decimal and '.' as grouping mark. Use read_delim() for more control.\n",
      "\n"
     ]
    }
   ],
   "source": [
    "data_port <- read_csv2('student-por.csv',\n",
    "                 col_types = cols(.default = col_character()))"
   ]
  },
  {
   "cell_type": "markdown",
   "metadata": {},
   "source": [
    "## Conferindo o número de amostras"
   ]
  },
  {
   "cell_type": "code",
   "execution_count": 3,
   "metadata": {
    "ExecuteTime": {
     "end_time": "2020-07-08T19:19:19.702672Z",
     "start_time": "2020-07-08T19:19:19.672Z"
    }
   },
   "outputs": [
    {
     "data": {
      "text/html": [
       "649"
      ],
      "text/latex": [
       "649"
      ],
      "text/markdown": [
       "649"
      ],
      "text/plain": [
       "[1] 649"
      ]
     },
     "metadata": {},
     "output_type": "display_data"
    }
   ],
   "source": [
    "# Number os samples\n",
    "nrow(data_port)"
   ]
  },
  {
   "cell_type": "markdown",
   "metadata": {},
   "source": [
    "## Verificando os dados"
   ]
  },
  {
   "cell_type": "code",
   "execution_count": 4,
   "metadata": {
    "ExecuteTime": {
     "end_time": "2020-07-08T19:19:21.635049Z",
     "start_time": "2020-07-08T19:19:21.588Z"
    },
    "scrolled": true
   },
   "outputs": [
    {
     "data": {
      "text/html": [
       "<table>\n",
       "<caption>A tibble: 6 × 33</caption>\n",
       "<thead>\n",
       "\t<tr><th scope=col>school</th><th scope=col>sex</th><th scope=col>age</th><th scope=col>address</th><th scope=col>famsize</th><th scope=col>Pstatus</th><th scope=col>Medu</th><th scope=col>Fedu</th><th scope=col>Mjob</th><th scope=col>Fjob</th><th scope=col>...</th><th scope=col>famrel</th><th scope=col>freetime</th><th scope=col>goout</th><th scope=col>Dalc</th><th scope=col>Walc</th><th scope=col>health</th><th scope=col>absences</th><th scope=col>G1</th><th scope=col>G2</th><th scope=col>G3</th></tr>\n",
       "\t<tr><th scope=col>&lt;chr&gt;</th><th scope=col>&lt;chr&gt;</th><th scope=col>&lt;chr&gt;</th><th scope=col>&lt;chr&gt;</th><th scope=col>&lt;chr&gt;</th><th scope=col>&lt;chr&gt;</th><th scope=col>&lt;chr&gt;</th><th scope=col>&lt;chr&gt;</th><th scope=col>&lt;chr&gt;</th><th scope=col>&lt;chr&gt;</th><th scope=col>...</th><th scope=col>&lt;chr&gt;</th><th scope=col>&lt;chr&gt;</th><th scope=col>&lt;chr&gt;</th><th scope=col>&lt;chr&gt;</th><th scope=col>&lt;chr&gt;</th><th scope=col>&lt;chr&gt;</th><th scope=col>&lt;chr&gt;</th><th scope=col>&lt;chr&gt;</th><th scope=col>&lt;chr&gt;</th><th scope=col>&lt;chr&gt;</th></tr>\n",
       "</thead>\n",
       "<tbody>\n",
       "\t<tr><td>GP</td><td>F</td><td>18</td><td>U</td><td>GT3</td><td>A</td><td>4</td><td>4</td><td>at_home </td><td>teacher </td><td>...</td><td>4</td><td>3</td><td>4</td><td>1</td><td>1</td><td>3</td><td>4</td><td>0 </td><td>11</td><td>11</td></tr>\n",
       "\t<tr><td>GP</td><td>F</td><td>17</td><td>U</td><td>GT3</td><td>T</td><td>1</td><td>1</td><td>at_home </td><td>other   </td><td>...</td><td>5</td><td>3</td><td>3</td><td>1</td><td>1</td><td>3</td><td>2</td><td>9 </td><td>11</td><td>11</td></tr>\n",
       "\t<tr><td>GP</td><td>F</td><td>15</td><td>U</td><td>LE3</td><td>T</td><td>1</td><td>1</td><td>at_home </td><td>other   </td><td>...</td><td>4</td><td>3</td><td>2</td><td>2</td><td>3</td><td>3</td><td>6</td><td>12</td><td>13</td><td>12</td></tr>\n",
       "\t<tr><td>GP</td><td>F</td><td>15</td><td>U</td><td>GT3</td><td>T</td><td>4</td><td>2</td><td>health  </td><td>services</td><td>...</td><td>3</td><td>2</td><td>2</td><td>1</td><td>1</td><td>5</td><td>0</td><td>14</td><td>14</td><td>14</td></tr>\n",
       "\t<tr><td>GP</td><td>F</td><td>16</td><td>U</td><td>GT3</td><td>T</td><td>3</td><td>3</td><td>other   </td><td>other   </td><td>...</td><td>4</td><td>3</td><td>2</td><td>1</td><td>2</td><td>5</td><td>0</td><td>11</td><td>13</td><td>13</td></tr>\n",
       "\t<tr><td>GP</td><td>M</td><td>16</td><td>U</td><td>LE3</td><td>T</td><td>4</td><td>3</td><td>services</td><td>other   </td><td>...</td><td>5</td><td>4</td><td>2</td><td>1</td><td>2</td><td>5</td><td>6</td><td>12</td><td>12</td><td>13</td></tr>\n",
       "</tbody>\n",
       "</table>\n"
      ],
      "text/latex": [
       "A tibble: 6 × 33\n",
       "\\begin{tabular}{lllllllllllllllllllll}\n",
       " school & sex & age & address & famsize & Pstatus & Medu & Fedu & Mjob & Fjob & ... & famrel & freetime & goout & Dalc & Walc & health & absences & G1 & G2 & G3\\\\\n",
       " <chr> & <chr> & <chr> & <chr> & <chr> & <chr> & <chr> & <chr> & <chr> & <chr> & ... & <chr> & <chr> & <chr> & <chr> & <chr> & <chr> & <chr> & <chr> & <chr> & <chr>\\\\\n",
       "\\hline\n",
       "\t GP & F & 18 & U & GT3 & A & 4 & 4 & at\\_home  & teacher  & ... & 4 & 3 & 4 & 1 & 1 & 3 & 4 & 0  & 11 & 11\\\\\n",
       "\t GP & F & 17 & U & GT3 & T & 1 & 1 & at\\_home  & other    & ... & 5 & 3 & 3 & 1 & 1 & 3 & 2 & 9  & 11 & 11\\\\\n",
       "\t GP & F & 15 & U & LE3 & T & 1 & 1 & at\\_home  & other    & ... & 4 & 3 & 2 & 2 & 3 & 3 & 6 & 12 & 13 & 12\\\\\n",
       "\t GP & F & 15 & U & GT3 & T & 4 & 2 & health   & services & ... & 3 & 2 & 2 & 1 & 1 & 5 & 0 & 14 & 14 & 14\\\\\n",
       "\t GP & F & 16 & U & GT3 & T & 3 & 3 & other    & other    & ... & 4 & 3 & 2 & 1 & 2 & 5 & 0 & 11 & 13 & 13\\\\\n",
       "\t GP & M & 16 & U & LE3 & T & 4 & 3 & services & other    & ... & 5 & 4 & 2 & 1 & 2 & 5 & 6 & 12 & 12 & 13\\\\\n",
       "\\end{tabular}\n"
      ],
      "text/markdown": [
       "\n",
       "A tibble: 6 × 33\n",
       "\n",
       "| school &lt;chr&gt; | sex &lt;chr&gt; | age &lt;chr&gt; | address &lt;chr&gt; | famsize &lt;chr&gt; | Pstatus &lt;chr&gt; | Medu &lt;chr&gt; | Fedu &lt;chr&gt; | Mjob &lt;chr&gt; | Fjob &lt;chr&gt; | ... ... | famrel &lt;chr&gt; | freetime &lt;chr&gt; | goout &lt;chr&gt; | Dalc &lt;chr&gt; | Walc &lt;chr&gt; | health &lt;chr&gt; | absences &lt;chr&gt; | G1 &lt;chr&gt; | G2 &lt;chr&gt; | G3 &lt;chr&gt; |\n",
       "|---|---|---|---|---|---|---|---|---|---|---|---|---|---|---|---|---|---|---|---|---|\n",
       "| GP | F | 18 | U | GT3 | A | 4 | 4 | at_home  | teacher  | ... | 4 | 3 | 4 | 1 | 1 | 3 | 4 | 0  | 11 | 11 |\n",
       "| GP | F | 17 | U | GT3 | T | 1 | 1 | at_home  | other    | ... | 5 | 3 | 3 | 1 | 1 | 3 | 2 | 9  | 11 | 11 |\n",
       "| GP | F | 15 | U | LE3 | T | 1 | 1 | at_home  | other    | ... | 4 | 3 | 2 | 2 | 3 | 3 | 6 | 12 | 13 | 12 |\n",
       "| GP | F | 15 | U | GT3 | T | 4 | 2 | health   | services | ... | 3 | 2 | 2 | 1 | 1 | 5 | 0 | 14 | 14 | 14 |\n",
       "| GP | F | 16 | U | GT3 | T | 3 | 3 | other    | other    | ... | 4 | 3 | 2 | 1 | 2 | 5 | 0 | 11 | 13 | 13 |\n",
       "| GP | M | 16 | U | LE3 | T | 4 | 3 | services | other    | ... | 5 | 4 | 2 | 1 | 2 | 5 | 6 | 12 | 12 | 13 |\n",
       "\n"
      ],
      "text/plain": [
       "  school sex age address famsize Pstatus Medu Fedu Mjob     Fjob     ... famrel\n",
       "1 GP     F   18  U       GT3     A       4    4    at_home  teacher  ... 4     \n",
       "2 GP     F   17  U       GT3     T       1    1    at_home  other    ... 5     \n",
       "3 GP     F   15  U       LE3     T       1    1    at_home  other    ... 4     \n",
       "4 GP     F   15  U       GT3     T       4    2    health   services ... 3     \n",
       "5 GP     F   16  U       GT3     T       3    3    other    other    ... 4     \n",
       "6 GP     M   16  U       LE3     T       4    3    services other    ... 5     \n",
       "  freetime goout Dalc Walc health absences G1 G2 G3\n",
       "1 3        4     1    1    3      4        0  11 11\n",
       "2 3        3     1    1    3      2        9  11 11\n",
       "3 3        2     2    3    3      6        12 13 12\n",
       "4 2        2     1    1    5      0        14 14 14\n",
       "5 3        2     1    2    5      0        11 13 13\n",
       "6 4        2     1    2    5      6        12 12 13"
      ]
     },
     "metadata": {},
     "output_type": "display_data"
    }
   ],
   "source": [
    "# Show dataset\n",
    "head(data_port)"
   ]
  },
  {
   "cell_type": "markdown",
   "metadata": {},
   "source": [
    "## Gráficos de frequência"
   ]
  },
  {
   "cell_type": "markdown",
   "metadata": {},
   "source": [
    "### Atributos numéricos"
   ]
  },
  {
   "cell_type": "code",
   "execution_count": 5,
   "metadata": {
    "ExecuteTime": {
     "end_time": "2020-07-08T19:19:27.367950Z",
     "start_time": "2020-07-08T19:19:27.302Z"
    },
    "scrolled": true
   },
   "outputs": [
    {
     "name": "stderr",
     "output_type": "stream",
     "text": [
      "Parsed with column specification:\n",
      "cols(\n",
      "  .default = col_character(),\n",
      "  age = \u001b[32mcol_double()\u001b[39m,\n",
      "  Medu = \u001b[32mcol_double()\u001b[39m,\n",
      "  Fedu = \u001b[32mcol_double()\u001b[39m,\n",
      "  traveltime = \u001b[32mcol_double()\u001b[39m,\n",
      "  studytime = \u001b[32mcol_double()\u001b[39m,\n",
      "  failures = \u001b[32mcol_double()\u001b[39m,\n",
      "  famrel = \u001b[32mcol_double()\u001b[39m,\n",
      "  freetime = \u001b[32mcol_double()\u001b[39m,\n",
      "  goout = \u001b[32mcol_double()\u001b[39m,\n",
      "  Dalc = \u001b[32mcol_double()\u001b[39m,\n",
      "  Walc = \u001b[32mcol_double()\u001b[39m,\n",
      "  health = \u001b[32mcol_double()\u001b[39m,\n",
      "  absences = \u001b[32mcol_double()\u001b[39m,\n",
      "  G1 = \u001b[32mcol_double()\u001b[39m,\n",
      "  G2 = \u001b[32mcol_double()\u001b[39m,\n",
      "  G3 = \u001b[32mcol_double()\u001b[39m\n",
      ")\n",
      "\n",
      "See spec(...) for full column specifications.\n",
      "\n"
     ]
    }
   ],
   "source": [
    "sdata_num_port <- \n",
    "  data_port %>%\n",
    "  type_convert() %>%\n",
    "  select(age, absences, G1, G2, G3) %>%\n",
    "  pivot_longer(everything(), names_to = \"Feature\", values_to = \"Value\") %>%\n",
    "  group_by(Feature, Value) %>%\n",
    "  summarize(Freq = n())"
   ]
  },
  {
   "cell_type": "code",
   "execution_count": 6,
   "metadata": {
    "ExecuteTime": {
     "end_time": "2020-07-08T19:19:30.436733Z",
     "start_time": "2020-07-08T19:19:29.739Z"
    },
    "scrolled": true
   },
   "outputs": [
    {
     "data": {
      "image/png": "[encoded data removed]",
      "text/plain": [
       "plot without title"
      ]
     },
     "metadata": {
      "image/png": {
       "height": 420,
       "width": 420
      }
     },
     "output_type": "display_data"
    }
   ],
   "source": [
    "ggplot(sdata_num_port, aes(x = Value, y = Freq, fill = Feature)) +\n",
    "  geom_bar(stat = \"identity\") +\n",
    "  facet_wrap(vars(Feature), scales = \"free\") +\n",
    "  ggtitle(\"Gráfico de frequência atributos quantitativos\\n Base português\") +\n",
    "  theme(plot.title = element_text(hjust = 0.5))"
   ]
  },
  {
   "cell_type": "markdown",
   "metadata": {},
   "source": [
    "### Atributos qualitativos"
   ]
  },
  {
   "cell_type": "code",
   "execution_count": 7,
   "metadata": {
    "ExecuteTime": {
     "end_time": "2020-07-08T19:19:32.587561Z",
     "start_time": "2020-07-08T19:19:32.504Z"
    }
   },
   "outputs": [],
   "source": [
    "sdata_qual_port_1 <- \n",
    "  data_port %>%\n",
    "  select(-c(age, absences, G1, G2, G3)) %>%\n",
    "  select(-c(Mjob, Fjob, reason, guardian)) %>%\n",
    "  select(c(1:12)) %>%\n",
    "  pivot_longer(everything(), names_to = \"Feature\", values_to = \"Value\") %>%\n",
    "  group_by(Feature, Value) %>%\n",
    "  summarize(Freq = n())\n",
    "\n",
    "sdata_qual_port_2 <- \n",
    "  data_port %>%\n",
    "  select(-c(age, absences, G1, G2, G3)) %>%\n",
    "  select(-c(Mjob, Fjob, reason, guardian)) %>%\n",
    "  select(c(13:24)) %>%\n",
    "  pivot_longer(everything(), names_to = \"Feature\", values_to = \"Value\") %>%\n",
    "  group_by(Feature, Value) %>%\n",
    "  summarize(Freq = n())\n",
    "\n",
    "sdata_qual_port_3 <- \n",
    "  data_port %>%\n",
    "  select(-c(age, absences, G1, G2, G3)) %>%\n",
    "  select(Mjob, Fjob, reason, guardian) %>%\n",
    "  pivot_longer(everything(), names_to = \"Feature\", values_to = \"Value\") %>%\n",
    "  group_by(Feature, Value) %>%\n",
    "  summarize(Freq = n())"
   ]
  },
  {
   "cell_type": "code",
   "execution_count": 8,
   "metadata": {
    "ExecuteTime": {
     "end_time": "2020-07-08T19:19:35.948180Z",
     "start_time": "2020-07-08T19:19:34.654Z"
    }
   },
   "outputs": [
    {
     "data": {
      "image/png": "[encoded data removed]",
      "text/plain": [
       "plot without title"
      ]
     },
     "metadata": {
      "image/png": {
       "height": 420,
       "width": 420
      }
     },
     "output_type": "display_data"
    }
   ],
   "source": [
    "ggplot(sdata_qual_port_1, aes(x = Value, y = Freq, fill = Feature)) +\n",
    "  geom_bar(stat = \"identity\") +\n",
    "  facet_wrap(vars(Feature), scales = \"free\") +\n",
    "  ggtitle(\"Gráfico de frequência n° 1 atributos qualitativos\\n Base português\") +\n",
    "  theme(plot.title = element_text(hjust = 0.5))"
   ]
  },
  {
   "cell_type": "code",
   "execution_count": 9,
   "metadata": {
    "ExecuteTime": {
     "end_time": "2020-07-08T19:19:39.106148Z",
     "start_time": "2020-07-08T19:19:37.806Z"
    }
   },
   "outputs": [
    {
     "data": {
      "image/png": "[encoded data removed]",
      "text/plain": [
       "plot without title"
      ]
     },
     "metadata": {
      "image/png": {
       "height": 420,
       "width": 420
      }
     },
     "output_type": "display_data"
    }
   ],
   "source": [
    "ggplot(sdata_qual_port_2, aes(x = Value, y = Freq, fill = Feature)) +\n",
    "  geom_bar(stat = \"identity\") +\n",
    "  facet_wrap(vars(Feature), scales = \"free\") +\n",
    "  ggtitle(\"Gráfico de frequência n° 2 atributos qualitativos\\n Base português\") +\n",
    "  theme(plot.title = element_text(hjust = 0.5))"
   ]
  },
  {
   "cell_type": "code",
   "execution_count": 10,
   "metadata": {
    "ExecuteTime": {
     "end_time": "2020-07-08T19:19:41.173692Z",
     "start_time": "2020-07-08T19:19:40.644Z"
    },
    "scrolled": true
   },
   "outputs": [
    {
     "data": {
      "image/png": "[encoded data removed]",
      "text/plain": [
       "plot without title"
      ]
     },
     "metadata": {
      "image/png": {
       "height": 420,
       "width": 420
      }
     },
     "output_type": "display_data"
    }
   ],
   "source": [
    "ggplot(sdata_qual_port_3, aes(x = Value, y = Freq, fill = Feature)) +\n",
    "  geom_bar(stat = \"identity\") +\n",
    "  facet_wrap(vars(Feature), scales = \"free\") +\n",
    "  ggtitle(\"Gráfico de frequência n° 3 atributos qualitativos\\n Base português\") +\n",
    "  theme(plot.title = element_text(hjust = 0.5))"
   ]
  },
  {
   "cell_type": "markdown",
   "metadata": {},
   "source": [
    "### Atributos qualitativos mais relevantes"
   ]
  },
  {
   "cell_type": "code",
   "execution_count": 11,
   "metadata": {
    "ExecuteTime": {
     "end_time": "2020-07-08T19:19:43.098794Z",
     "start_time": "2020-07-08T19:19:43.034Z"
    }
   },
   "outputs": [],
   "source": [
    "sdata_qual_rel_port_1 <- \n",
    "  data_port %>%\n",
    "  select(-c(age, absences, G1, G2, G3)) %>%\n",
    "  select(schoolsup, famsup, failures, paid) %>%\n",
    "  pivot_longer(everything(), names_to = \"Feature\", values_to = \"Value\") %>%\n",
    "  group_by(Feature, Value) %>%\n",
    "  summarize(Freq = n())\n",
    "\n",
    "sdata_qual_rel_port_2 <- \n",
    "  data_port %>%\n",
    "  select(-c(age, absences, G1, G2, G3)) %>%\n",
    "  select(activities, freetime, studytime, health) %>%\n",
    "  pivot_longer(everything(), names_to = \"Feature\", values_to = \"Value\") %>%\n",
    "  group_by(Feature, Value) %>%\n",
    "  summarize(Freq = n())"
   ]
  },
  {
   "cell_type": "code",
   "execution_count": 12,
   "metadata": {
    "ExecuteTime": {
     "end_time": "2020-07-08T19:19:45.758764Z",
     "start_time": "2020-07-08T19:19:45.183Z"
    }
   },
   "outputs": [
    {
     "data": {
      "image/png": "[encoded data removed]",
      "text/plain": [
       "plot without title"
      ]
     },
     "metadata": {
      "image/png": {
       "height": 420,
       "width": 420
      }
     },
     "output_type": "display_data"
    }
   ],
   "source": [
    "ggplot(sdata_qual_rel_port_1, aes(x = Value, y = Freq, fill = Feature)) +\n",
    "  geom_bar(stat = \"identity\") +\n",
    "  facet_wrap(vars(Feature), scales = \"free\") +\n",
    "  ggtitle(\"Gráfico de frequência n° 1 atributos qualitativos relevantes\\n Base português\") +\n",
    "  theme(plot.title = element_text(hjust = 0.5))"
   ]
  },
  {
   "cell_type": "code",
   "execution_count": 13,
   "metadata": {
    "ExecuteTime": {
     "end_time": "2020-07-08T19:19:47.974933Z",
     "start_time": "2020-07-08T19:19:47.387Z"
    }
   },
   "outputs": [
    {
     "data": {
      "image/png": "[encoded data removed]",
      "text/plain": [
       "plot without title"
      ]
     },
     "metadata": {
      "image/png": {
       "height": 420,
       "width": 420
      }
     },
     "output_type": "display_data"
    }
   ],
   "source": [
    "ggplot(sdata_qual_rel_port_2, aes(x = Value, y = Freq, fill = Feature)) +\n",
    "  geom_bar(stat = \"identity\") +\n",
    "  facet_wrap(vars(Feature), scales = \"free\") +\n",
    "  ggtitle(\"Gráfico de frequência n° 2 atributos qualitativos relevantes\\n Base português\") +\n",
    "  theme(plot.title = element_text(hjust = 0.5))"
   ]
  },
  {
   "cell_type": "markdown",
   "metadata": {},
   "source": [
    "## Boxplot"
   ]
  },
  {
   "cell_type": "code",
   "execution_count": 14,
   "metadata": {
    "ExecuteTime": {
     "end_time": "2020-07-08T19:19:58.596559Z",
     "start_time": "2020-07-08T19:19:57.915Z"
    }
   },
   "outputs": [
    {
     "name": "stderr",
     "output_type": "stream",
     "text": [
      "Parsed with column specification:\n",
      "cols(\n",
      "  .default = col_character(),\n",
      "  age = \u001b[32mcol_double()\u001b[39m,\n",
      "  Medu = \u001b[32mcol_double()\u001b[39m,\n",
      "  Fedu = \u001b[32mcol_double()\u001b[39m,\n",
      "  traveltime = \u001b[32mcol_double()\u001b[39m,\n",
      "  studytime = \u001b[32mcol_double()\u001b[39m,\n",
      "  failures = \u001b[32mcol_double()\u001b[39m,\n",
      "  famrel = \u001b[32mcol_double()\u001b[39m,\n",
      "  freetime = \u001b[32mcol_double()\u001b[39m,\n",
      "  goout = \u001b[32mcol_double()\u001b[39m,\n",
      "  Dalc = \u001b[32mcol_double()\u001b[39m,\n",
      "  Walc = \u001b[32mcol_double()\u001b[39m,\n",
      "  health = \u001b[32mcol_double()\u001b[39m,\n",
      "  absences = \u001b[32mcol_double()\u001b[39m,\n",
      "  G1 = \u001b[32mcol_double()\u001b[39m,\n",
      "  G2 = \u001b[32mcol_double()\u001b[39m,\n",
      "  G3 = \u001b[32mcol_double()\u001b[39m\n",
      ")\n",
      "\n",
      "See spec(...) for full column specifications.\n",
      "\n"
     ]
    },
    {
     "data": {
      "image/png": "[encoded data removed]",
      "text/plain": [
       "plot without title"
      ]
     },
     "metadata": {
      "image/png": {
       "height": 420,
       "width": 420
      }
     },
     "output_type": "display_data"
    }
   ],
   "source": [
    "data_port %>%\n",
    "    type_convert() %>%\n",
    "    select(G1, G2, G3, age, absences) %>%\n",
    "    pivot_longer(everything(), names_to = \"Feature\", values_to = \"Value\") %>%\n",
    "        ggplot(aes(Value, x = Feature, fill = Feature)) +\n",
    "               geom_boxplot() +\n",
    "               ggtitle(\"Boxplot dos atributos quantitativos\\n Base português\") +\n",
    "               theme(plot.title = element_text(hjust = 0.5)) +\n",
    "               facet_wrap(vars(Feature), scales = \"free\", ncol=5)"
   ]
  },
  {
   "cell_type": "markdown",
   "metadata": {},
   "source": [
    "## Tabela com estatísticas"
   ]
  },
  {
   "cell_type": "code",
   "execution_count": 15,
   "metadata": {
    "ExecuteTime": {
     "end_time": "2020-07-08T19:20:01.676917Z",
     "start_time": "2020-07-08T19:20:01.610Z"
    }
   },
   "outputs": [
    {
     "name": "stderr",
     "output_type": "stream",
     "text": [
      "Parsed with column specification:\n",
      "cols(\n",
      "  .default = col_character(),\n",
      "  age = \u001b[32mcol_double()\u001b[39m,\n",
      "  Medu = \u001b[32mcol_double()\u001b[39m,\n",
      "  Fedu = \u001b[32mcol_double()\u001b[39m,\n",
      "  traveltime = \u001b[32mcol_double()\u001b[39m,\n",
      "  studytime = \u001b[32mcol_double()\u001b[39m,\n",
      "  failures = \u001b[32mcol_double()\u001b[39m,\n",
      "  famrel = \u001b[32mcol_double()\u001b[39m,\n",
      "  freetime = \u001b[32mcol_double()\u001b[39m,\n",
      "  goout = \u001b[32mcol_double()\u001b[39m,\n",
      "  Dalc = \u001b[32mcol_double()\u001b[39m,\n",
      "  Walc = \u001b[32mcol_double()\u001b[39m,\n",
      "  health = \u001b[32mcol_double()\u001b[39m,\n",
      "  absences = \u001b[32mcol_double()\u001b[39m,\n",
      "  G1 = \u001b[32mcol_double()\u001b[39m,\n",
      "  G2 = \u001b[32mcol_double()\u001b[39m,\n",
      "  G3 = \u001b[32mcol_double()\u001b[39m\n",
      ")\n",
      "\n",
      "See spec(...) for full column specifications.\n",
      "\n"
     ]
    },
    {
     "data": {
      "text/html": [
       "<table>\n",
       "<caption>A tibble: 5 × 12</caption>\n",
       "<thead>\n",
       "\t<tr><th scope=col>Feature</th><th scope=col>Min</th><th scope=col>Max</th><th scope=col>Range</th><th scope=col>Q1</th><th scope=col>Q2</th><th scope=col>Q3</th><th scope=col>Std</th><th scope=col>Mean</th><th scope=col>Var</th><th scope=col>Skew</th><th scope=col>Kurt</th></tr>\n",
       "\t<tr><th scope=col>&lt;chr&gt;</th><th scope=col>&lt;dbl&gt;</th><th scope=col>&lt;dbl&gt;</th><th scope=col>&lt;dbl&gt;</th><th scope=col>&lt;dbl&gt;</th><th scope=col>&lt;dbl&gt;</th><th scope=col>&lt;dbl&gt;</th><th scope=col>&lt;dbl&gt;</th><th scope=col>&lt;dbl&gt;</th><th scope=col>&lt;dbl&gt;</th><th scope=col>&lt;dbl&gt;</th><th scope=col>&lt;dbl&gt;</th></tr>\n",
       "</thead>\n",
       "<tbody>\n",
       "\t<tr><td>absences</td><td> 0</td><td>32</td><td>32</td><td> 0</td><td> 2</td><td> 6</td><td>4.640759</td><td> 3.659476</td><td>21.536642</td><td> 2.011362650</td><td>5.70053028</td></tr>\n",
       "\t<tr><td>age     </td><td>15</td><td>22</td><td> 7</td><td>16</td><td>17</td><td>18</td><td>1.218138</td><td>16.744222</td><td> 1.483859</td><td> 0.414870724</td><td>0.05230014</td></tr>\n",
       "\t<tr><td>G1      </td><td> 0</td><td>19</td><td>19</td><td>10</td><td>11</td><td>13</td><td>2.745265</td><td>11.399076</td><td> 7.536481</td><td>-0.002760829</td><td>0.01780440</td></tr>\n",
       "\t<tr><td>G2      </td><td> 0</td><td>19</td><td>19</td><td>10</td><td>11</td><td>13</td><td>2.913639</td><td>11.570108</td><td> 8.489290</td><td>-0.358618952</td><td>1.62616438</td></tr>\n",
       "\t<tr><td>G3      </td><td> 0</td><td>19</td><td>19</td><td>10</td><td>12</td><td>14</td><td>3.230656</td><td>11.906009</td><td>10.437140</td><td>-0.908693770</td><td>2.66462641</td></tr>\n",
       "</tbody>\n",
       "</table>\n"
      ],
      "text/latex": [
       "A tibble: 5 × 12\n",
       "\\begin{tabular}{llllllllllll}\n",
       " Feature & Min & Max & Range & Q1 & Q2 & Q3 & Std & Mean & Var & Skew & Kurt\\\\\n",
       " <chr> & <dbl> & <dbl> & <dbl> & <dbl> & <dbl> & <dbl> & <dbl> & <dbl> & <dbl> & <dbl> & <dbl>\\\\\n",
       "\\hline\n",
       "\t absences &  0 & 32 & 32 &  0 &  2 &  6 & 4.640759 &  3.659476 & 21.536642 &  2.011362650 & 5.70053028\\\\\n",
       "\t age      & 15 & 22 &  7 & 16 & 17 & 18 & 1.218138 & 16.744222 &  1.483859 &  0.414870724 & 0.05230014\\\\\n",
       "\t G1       &  0 & 19 & 19 & 10 & 11 & 13 & 2.745265 & 11.399076 &  7.536481 & -0.002760829 & 0.01780440\\\\\n",
       "\t G2       &  0 & 19 & 19 & 10 & 11 & 13 & 2.913639 & 11.570108 &  8.489290 & -0.358618952 & 1.62616438\\\\\n",
       "\t G3       &  0 & 19 & 19 & 10 & 12 & 14 & 3.230656 & 11.906009 & 10.437140 & -0.908693770 & 2.66462641\\\\\n",
       "\\end{tabular}\n"
      ],
      "text/markdown": [
       "\n",
       "A tibble: 5 × 12\n",
       "\n",
       "| Feature &lt;chr&gt; | Min &lt;dbl&gt; | Max &lt;dbl&gt; | Range &lt;dbl&gt; | Q1 &lt;dbl&gt; | Q2 &lt;dbl&gt; | Q3 &lt;dbl&gt; | Std &lt;dbl&gt; | Mean &lt;dbl&gt; | Var &lt;dbl&gt; | Skew &lt;dbl&gt; | Kurt &lt;dbl&gt; |\n",
       "|---|---|---|---|---|---|---|---|---|---|---|---|\n",
       "| absences |  0 | 32 | 32 |  0 |  2 |  6 | 4.640759 |  3.659476 | 21.536642 |  2.011362650 | 5.70053028 |\n",
       "| age      | 15 | 22 |  7 | 16 | 17 | 18 | 1.218138 | 16.744222 |  1.483859 |  0.414870724 | 0.05230014 |\n",
       "| G1       |  0 | 19 | 19 | 10 | 11 | 13 | 2.745265 | 11.399076 |  7.536481 | -0.002760829 | 0.01780440 |\n",
       "| G2       |  0 | 19 | 19 | 10 | 11 | 13 | 2.913639 | 11.570108 |  8.489290 | -0.358618952 | 1.62616438 |\n",
       "| G3       |  0 | 19 | 19 | 10 | 12 | 14 | 3.230656 | 11.906009 | 10.437140 | -0.908693770 | 2.66462641 |\n",
       "\n"
      ],
      "text/plain": [
       "  Feature  Min Max Range Q1 Q2 Q3 Std      Mean      Var       Skew        \n",
       "1 absences  0  32  32     0  2  6 4.640759  3.659476 21.536642  2.011362650\n",
       "2 age      15  22   7    16 17 18 1.218138 16.744222  1.483859  0.414870724\n",
       "3 G1        0  19  19    10 11 13 2.745265 11.399076  7.536481 -0.002760829\n",
       "4 G2        0  19  19    10 11 13 2.913639 11.570108  8.489290 -0.358618952\n",
       "5 G3        0  19  19    10 12 14 3.230656 11.906009 10.437140 -0.908693770\n",
       "  Kurt      \n",
       "1 5.70053028\n",
       "2 0.05230014\n",
       "3 0.01780440\n",
       "4 1.62616438\n",
       "5 2.66462641"
      ]
     },
     "metadata": {},
     "output_type": "display_data"
    }
   ],
   "source": [
    "data_port %>%\n",
    "    type_convert() %>%\n",
    "    select(age, absences, G1, G2, G3) %>%\n",
    "    pivot_longer(everything(), names_to = \"Feature\", values_to = \"Value\") %>%\n",
    "    group_by(Feature) %>%\n",
    "    summarize(Min = min(Value),\n",
    "              Max = max(Value),\n",
    "              Range = max(Value) - min(Value),\n",
    "              Q1 = quantile(Value, .25),\n",
    "              Q2 = quantile(Value, .50),\n",
    "              Q3 = quantile(Value, .75),\n",
    "              Std = sd(Value),\n",
    "              Mean = mean(Value),\n",
    "              Var = var(Value),\n",
    "              Skew = skewness(Value),\n",
    "              Kurt = kurtosis(Value))"
   ]
  }
 ],
 "metadata": {
  "kernelspec": {
   "display_name": "R",
   "language": "R",
   "name": "ir"
  },
  "language_info": {
   "codemirror_mode": "r",
   "file_extension": ".r",
   "mimetype": "text/x-r-source",
   "name": "R",
   "pygments_lexer": "r",
   "version": "4.0.2"
  },
  "toc": {
   "base_numbering": 1,
   "nav_menu": {},
   "number_sections": true,
   "sideBar": true,
   "skip_h1_title": false,
   "title_cell": "Table of Contents",
   "title_sidebar": "Contents",
   "toc_cell": false,
   "toc_position": {},
   "toc_section_display": true,
   "toc_window_display": true
  },
  "varInspector": {
   "cols": {
    "lenName": 16,
    "lenType": 16,
    "lenVar": 40
   },
   "kernels_config": {
    "python": {
     "delete_cmd_postfix": "",
     "delete_cmd_prefix": "del ",
     "library": "var_list.py",
     "varRefreshCmd": "print(var_dic_list())"
    },
    "r": {
     "delete_cmd_postfix": ") ",
     "delete_cmd_prefix": "rm(",
     "library": "var_list.r",
     "varRefreshCmd": "cat(var_dic_list()) "
    }
   },
   "types_to_exclude": [
    "module",
    "function",
    "builtin_function_or_method",
    "instance",
    "_Feature"
   ],
   "window_display": false
  }
 },
 "nbformat": 4,
 "nbformat_minor": 4
}
