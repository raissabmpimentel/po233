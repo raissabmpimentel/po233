{
 "cells": [
  {
   "cell_type": "markdown",
   "metadata": {},
   "source": [
    "# Validação das tarefas de aprendizado"
   ]
  },
  {
   "cell_type": "markdown",
   "metadata": {},
   "source": [
    "## Importações"
   ]
  },
  {
   "cell_type": "code",
   "execution_count": 1,
   "metadata": {
    "ExecuteTime": {
     "end_time": "2020-07-08T20:17:56.791104Z",
     "start_time": "2020-07-08T20:17:55.435353Z"
    }
   },
   "outputs": [],
   "source": [
    "import pandas as pd\n",
    "import Orange\n",
    "import matplotlib.pyplot as plt\n",
    "from scipy.stats import friedmanchisquare\n",
    "from sklearn.svm import SVC, SVR\n",
    "from sklearn.neighbors import KNeighborsClassifier, KNeighborsRegressor\n",
    "from sklearn.tree import DecisionTreeClassifier, DecisionTreeRegressor\n",
    "from sklearn.preprocessing import StandardScaler\n",
    "from sklearn.neural_network import MLPClassifier, MLPRegressor\n",
    "from sklearn.ensemble import RandomForestClassifier, RandomForestRegressor\n",
    "from sklearn.model_selection import StratifiedKFold, GridSearchCV, ShuffleSplit, KFold\n",
    "from sklearn.metrics import accuracy_score, make_scorer, mean_squared_error"
   ]
  },
  {
   "cell_type": "markdown",
   "metadata": {},
   "source": [
    "## Parâmetros gerais"
   ]
  },
  {
   "cell_type": "code",
   "execution_count": 2,
   "metadata": {
    "ExecuteTime": {
     "end_time": "2020-07-08T20:17:56.845417Z",
     "start_time": "2020-07-08T20:17:56.791104Z"
    }
   },
   "outputs": [],
   "source": [
    "n_splits = 10\n",
    "random_state = 17\n",
    "\n",
    "base = pd.read_csv('student-por.csv', sep = \";\")"
   ]
  },
  {
   "cell_type": "markdown",
   "metadata": {},
   "source": [
    "---"
   ]
  },
  {
   "cell_type": "markdown",
   "metadata": {},
   "source": [
    "## Tarefa de classificação"
   ]
  },
  {
   "cell_type": "markdown",
   "metadata": {},
   "source": [
    "### Função de pré-processamento"
   ]
  },
  {
   "cell_type": "code",
   "execution_count": 3,
   "metadata": {
    "ExecuteTime": {
     "end_time": "2020-07-08T20:17:56.854402Z",
     "start_time": "2020-07-08T20:17:56.846450Z"
    }
   },
   "outputs": [],
   "source": [
    "def preprocess_class(base):\n",
    "\n",
    "    base = base.drop(['school'], axis=1)\n",
    "    \n",
    "    base = base.replace(['LE3', 'GT3'], [0,1])\n",
    "    \n",
    "    items = ['sex', 'address','Pstatus','Mjob','Fjob','reason','guardian','schoolsup','famsup','paid','activities','nursery','higher',\n",
    "             'internet','romantic']\n",
    "    \n",
    "    for item in items:\n",
    "        base = pd.concat([base,pd.get_dummies(base[item], prefix=item)],axis=1)\n",
    "        base = base.drop([item],axis=1)\n",
    "    \n",
    "    base.loc[base['G3'] < 10, 'G3'] = 0\n",
    "    base.loc[base['G3'] >= 10, 'G3'] = 1\n",
    "    \n",
    "    return base"
   ]
  },
  {
   "cell_type": "markdown",
   "metadata": {},
   "source": [
    "### Função de treinamento e teste com base_class nos algoritmos escolhidos"
   ]
  },
  {
   "cell_type": "code",
   "execution_count": 4,
   "metadata": {
    "ExecuteTime": {
     "end_time": "2020-07-08T20:17:56.864369Z",
     "start_time": "2020-07-08T20:17:56.855394Z"
    }
   },
   "outputs": [],
   "source": [
    "def search_class(X, y, n_splits, random_state, algorithms):\n",
    "    \n",
    "    kf = StratifiedKFold(n_splits=n_splits, shuffle=True, random_state=random_state)\n",
    "    gskf = StratifiedKFold(n_splits=3, shuffle=True, random_state=random_state)\n",
    "    perf = accuracy_score\n",
    "    \n",
    "    score = {}\n",
    "    for algorithm in algorithms.keys():\n",
    "        score[algorithm] = []\n",
    "    \n",
    "    for algorithm, (clf, parameters) in algorithms.items():\n",
    "        for train, test in kf.split(X, y):\n",
    "            prep = StandardScaler()\n",
    "            prep.fit(X[train])\n",
    "            best = GridSearchCV(clf, parameters, cv=gskf, scoring=make_scorer(perf))\n",
    "            best.fit(prep.transform(X[train]), y[train])\n",
    "            score[algorithm].append(perf(best.predict(prep.transform(X[test])), y[test]))\n",
    "            \n",
    "    df_metrics = pd.DataFrame.from_dict(score)\n",
    "    return df_metrics"
   ]
  },
  {
   "cell_type": "markdown",
   "metadata": {},
   "source": [
    "### Função que executa o teste de Friedman e Nemenyi (se necessário)"
   ]
  },
  {
   "cell_type": "code",
   "execution_count": 5,
   "metadata": {
    "ExecuteTime": {
     "end_time": "2020-07-08T20:17:56.872355Z",
     "start_time": "2020-07-08T20:17:56.865366Z"
    }
   },
   "outputs": [],
   "source": [
    "def friedman_nemenyi_tests_class(df_metrics, title):   \n",
    "    \n",
    "    df_score = df_metrics.rank(axis=1, ascending=False)\n",
    "    \n",
    "    stat, p = friedmanchisquare(*[grp for idx, grp in df_score.iteritems()])\n",
    "    \n",
    "    print('Statistics=%.3f, p=%g' % (stat, p))\n",
    "    \n",
    "    alpha = 0.05\n",
    "    if p > alpha:\n",
    "        print('Same distributions (fail to reject H0)')\n",
    "    else:\n",
    "        print(\"Different distributions (reject H0)\")\n",
    "        names = list(df_score.columns)\n",
    "        avranks = df_score.mean().values.tolist()\n",
    "        cd = Orange.evaluation.compute_CD(avranks, n_splits)\n",
    "        Orange.evaluation.graph_ranks(avranks, names, cd=cd, width=6, textspace=1.5)\n",
    "        plt.title(title)\n",
    "        plt.show()\n",
    "    return df_score"
   ]
  },
  {
   "cell_type": "markdown",
   "metadata": {},
   "source": [
    "### Algoritmos e hiperparâmetros testados"
   ]
  },
  {
   "cell_type": "code",
   "execution_count": 6,
   "metadata": {
    "ExecuteTime": {
     "end_time": "2020-07-08T20:17:56.903016Z",
     "start_time": "2020-07-08T20:17:56.878091Z"
    }
   },
   "outputs": [],
   "source": [
    "algorithms_class = {\n",
    "    \"MLP\": (MLPClassifier(), { \"activation\": (\"identity\", \"logistic\", \"tanh\", \"relu\"), \"solver\": (\"lbfgs\", \"adam\"), \"max_iter\": [1000], \"random_state\": [1]}), \n",
    "    \"SVM\": (SVC(), {\"C\": [1, 10], \"kernel\": (\"linear\", \"rbf\"), \"random_state\": [2]}),\n",
    "    \"KNN\": (KNeighborsClassifier(), { \"n_neighbors\": [1, 3, 5] }),\n",
    "    \"DT\" : (DecisionTreeClassifier(), { \"criterion\": (\"gini\", \"entropy\"), \"max_depth\": [5, 10, 20], \"random_state\": [3]}),\n",
    "    \"RF\" : (RandomForestClassifier(), { \"criterion\": (\"gini\", \"entropy\"), \"max_depth\": [5, 10, 20], \"n_estimators\": [30,50,100], \"random_state\": [4]})\n",
    "}"
   ]
  },
  {
   "cell_type": "markdown",
   "metadata": {},
   "source": [
    "### Leitura da base_class, pré-processamento e definição do atributo-alvo"
   ]
  },
  {
   "cell_type": "code",
   "execution_count": 7,
   "metadata": {
    "ExecuteTime": {
     "end_time": "2020-07-08T20:17:56.961839Z",
     "start_time": "2020-07-08T20:17:56.905974Z"
    }
   },
   "outputs": [],
   "source": [
    "base_class = preprocess_class(base)\n",
    "\n",
    "y = base_class['G3'].to_numpy()"
   ]
  },
  {
   "cell_type": "markdown",
   "metadata": {},
   "source": [
    "### Combinação [  ]"
   ]
  },
  {
   "cell_type": "markdown",
   "metadata": {},
   "source": [
    "#### Busca dos melhores modelos"
   ]
  },
  {
   "cell_type": "code",
   "execution_count": 8,
   "metadata": {
    "ExecuteTime": {
     "end_time": "2020-07-08T20:20:54.111762Z",
     "start_time": "2020-07-08T20:17:56.963822Z"
    }
   },
   "outputs": [],
   "source": [
    "X = base_class.drop(columns = ['G1','G2','G3']).to_numpy()\n",
    "df_metrics_no_class = search_class(X,y,n_splits,random_state,algorithms_class)"
   ]
  },
  {
   "cell_type": "markdown",
   "metadata": {},
   "source": [
    "###### Performance dos modelos"
   ]
  },
  {
   "cell_type": "code",
   "execution_count": 9,
   "metadata": {
    "ExecuteTime": {
     "end_time": "2020-07-08T20:20:54.131407Z",
     "start_time": "2020-07-08T20:20:54.111762Z"
    }
   },
   "outputs": [
    {
     "data": {
      "text/html": [
       "<div>\n",
       "<style scoped>\n",
       "    .dataframe tbody tr th:only-of-type {\n",
       "        vertical-align: middle;\n",
       "    }\n",
       "\n",
       "    .dataframe tbody tr th {\n",
       "        vertical-align: top;\n",
       "    }\n",
       "\n",
       "    .dataframe thead th {\n",
       "        text-align: right;\n",
       "    }\n",
       "</style>\n",
       "<table border=\"1\" class=\"dataframe\">\n",
       "  <thead>\n",
       "    <tr style=\"text-align: right;\">\n",
       "      <th></th>\n",
       "      <th>MLP</th>\n",
       "      <th>SVM</th>\n",
       "      <th>KNN</th>\n",
       "      <th>DT</th>\n",
       "      <th>RF</th>\n",
       "    </tr>\n",
       "  </thead>\n",
       "  <tbody>\n",
       "    <tr>\n",
       "      <th>0</th>\n",
       "      <td>0.830769</td>\n",
       "      <td>0.815385</td>\n",
       "      <td>0.800000</td>\n",
       "      <td>0.876923</td>\n",
       "      <td>0.846154</td>\n",
       "    </tr>\n",
       "    <tr>\n",
       "      <th>1</th>\n",
       "      <td>0.861538</td>\n",
       "      <td>0.876923</td>\n",
       "      <td>0.830769</td>\n",
       "      <td>0.846154</td>\n",
       "      <td>0.830769</td>\n",
       "    </tr>\n",
       "    <tr>\n",
       "      <th>2</th>\n",
       "      <td>0.815385</td>\n",
       "      <td>0.876923</td>\n",
       "      <td>0.846154</td>\n",
       "      <td>0.800000</td>\n",
       "      <td>0.861538</td>\n",
       "    </tr>\n",
       "    <tr>\n",
       "      <th>3</th>\n",
       "      <td>0.846154</td>\n",
       "      <td>0.861538</td>\n",
       "      <td>0.876923</td>\n",
       "      <td>0.830769</td>\n",
       "      <td>0.846154</td>\n",
       "    </tr>\n",
       "    <tr>\n",
       "      <th>4</th>\n",
       "      <td>0.861538</td>\n",
       "      <td>0.861538</td>\n",
       "      <td>0.830769</td>\n",
       "      <td>0.907692</td>\n",
       "      <td>0.846154</td>\n",
       "    </tr>\n",
       "    <tr>\n",
       "      <th>5</th>\n",
       "      <td>0.769231</td>\n",
       "      <td>0.846154</td>\n",
       "      <td>0.753846</td>\n",
       "      <td>0.815385</td>\n",
       "      <td>0.861538</td>\n",
       "    </tr>\n",
       "    <tr>\n",
       "      <th>6</th>\n",
       "      <td>0.861538</td>\n",
       "      <td>0.861538</td>\n",
       "      <td>0.846154</td>\n",
       "      <td>0.876923</td>\n",
       "      <td>0.861538</td>\n",
       "    </tr>\n",
       "    <tr>\n",
       "      <th>7</th>\n",
       "      <td>0.830769</td>\n",
       "      <td>0.861538</td>\n",
       "      <td>0.815385</td>\n",
       "      <td>0.846154</td>\n",
       "      <td>0.830769</td>\n",
       "    </tr>\n",
       "    <tr>\n",
       "      <th>8</th>\n",
       "      <td>0.861538</td>\n",
       "      <td>0.846154</td>\n",
       "      <td>0.815385</td>\n",
       "      <td>0.846154</td>\n",
       "      <td>0.830769</td>\n",
       "    </tr>\n",
       "    <tr>\n",
       "      <th>9</th>\n",
       "      <td>0.859375</td>\n",
       "      <td>0.843750</td>\n",
       "      <td>0.875000</td>\n",
       "      <td>0.890625</td>\n",
       "      <td>0.859375</td>\n",
       "    </tr>\n",
       "  </tbody>\n",
       "</table>\n",
       "</div>"
      ],
      "text/plain": [
       "        MLP       SVM       KNN        DT        RF\n",
       "0  0.830769  0.815385  0.800000  0.876923  0.846154\n",
       "1  0.861538  0.876923  0.830769  0.846154  0.830769\n",
       "2  0.815385  0.876923  0.846154  0.800000  0.861538\n",
       "3  0.846154  0.861538  0.876923  0.830769  0.846154\n",
       "4  0.861538  0.861538  0.830769  0.907692  0.846154\n",
       "5  0.769231  0.846154  0.753846  0.815385  0.861538\n",
       "6  0.861538  0.861538  0.846154  0.876923  0.861538\n",
       "7  0.830769  0.861538  0.815385  0.846154  0.830769\n",
       "8  0.861538  0.846154  0.815385  0.846154  0.830769\n",
       "9  0.859375  0.843750  0.875000  0.890625  0.859375"
      ]
     },
     "execution_count": 9,
     "metadata": {},
     "output_type": "execute_result"
    }
   ],
   "source": [
    "df_metrics_no_class"
   ]
  },
  {
   "cell_type": "code",
   "execution_count": 10,
   "metadata": {
    "ExecuteTime": {
     "end_time": "2020-07-08T20:20:54.143375Z",
     "start_time": "2020-07-08T20:20:54.133403Z"
    }
   },
   "outputs": [
    {
     "data": {
      "text/plain": [
       "MLP    0.839784\n",
       "SVM    0.855144\n",
       "KNN    0.829038\n",
       "DT     0.853678\n",
       "RF     0.847476\n",
       "dtype: float64"
      ]
     },
     "execution_count": 10,
     "metadata": {},
     "output_type": "execute_result"
    }
   ],
   "source": [
    "df_metrics_no_class.mean()"
   ]
  },
  {
   "cell_type": "code",
   "execution_count": 11,
   "metadata": {
    "ExecuteTime": {
     "end_time": "2020-07-08T20:20:54.153349Z",
     "start_time": "2020-07-08T20:20:54.144372Z"
    }
   },
   "outputs": [
    {
     "data": {
      "text/plain": [
       "MLP    0.029913\n",
       "SVM    0.018210\n",
       "KNN    0.036312\n",
       "DT     0.034003\n",
       "RF     0.013239\n",
       "dtype: float64"
      ]
     },
     "execution_count": 11,
     "metadata": {},
     "output_type": "execute_result"
    }
   ],
   "source": [
    "df_metrics_no_class.std()"
   ]
  },
  {
   "cell_type": "markdown",
   "metadata": {},
   "source": [
    "#### Teste de Friedman e Nemenyi (se necessário)"
   ]
  },
  {
   "cell_type": "code",
   "execution_count": 12,
   "metadata": {
    "ExecuteTime": {
     "end_time": "2020-07-08T20:20:54.163330Z",
     "start_time": "2020-07-08T20:20:54.154346Z"
    }
   },
   "outputs": [
    {
     "name": "stdout",
     "output_type": "stream",
     "text": [
      "Statistics=7.474, p=0.112875\n",
      "Same distributions (fail to reject H0)\n"
     ]
    }
   ],
   "source": [
    "df_score_no_class = friedman_nemenyi_tests_class(df_metrics_no_class, \"[ ]\")"
   ]
  },
  {
   "cell_type": "markdown",
   "metadata": {},
   "source": [
    "### Combinação [G1]"
   ]
  },
  {
   "cell_type": "markdown",
   "metadata": {},
   "source": [
    "#### Busca dos melhores modelos"
   ]
  },
  {
   "cell_type": "code",
   "execution_count": 13,
   "metadata": {
    "ExecuteTime": {
     "end_time": "2020-07-08T20:23:38.837427Z",
     "start_time": "2020-07-08T20:20:54.165316Z"
    }
   },
   "outputs": [],
   "source": [
    "X = base_class.drop(columns = ['G2','G3']).to_numpy()\n",
    "df_metrics_G1_class = search_class(X,y,n_splits,random_state,algorithms_class)"
   ]
  },
  {
   "cell_type": "markdown",
   "metadata": {},
   "source": [
    "###### Performance dos modelos"
   ]
  },
  {
   "cell_type": "code",
   "execution_count": 14,
   "metadata": {
    "ExecuteTime": {
     "end_time": "2020-07-08T20:23:38.847380Z",
     "start_time": "2020-07-08T20:23:38.838352Z"
    }
   },
   "outputs": [
    {
     "data": {
      "text/html": [
       "<div>\n",
       "<style scoped>\n",
       "    .dataframe tbody tr th:only-of-type {\n",
       "        vertical-align: middle;\n",
       "    }\n",
       "\n",
       "    .dataframe tbody tr th {\n",
       "        vertical-align: top;\n",
       "    }\n",
       "\n",
       "    .dataframe thead th {\n",
       "        text-align: right;\n",
       "    }\n",
       "</style>\n",
       "<table border=\"1\" class=\"dataframe\">\n",
       "  <thead>\n",
       "    <tr style=\"text-align: right;\">\n",
       "      <th></th>\n",
       "      <th>MLP</th>\n",
       "      <th>SVM</th>\n",
       "      <th>KNN</th>\n",
       "      <th>DT</th>\n",
       "      <th>RF</th>\n",
       "    </tr>\n",
       "  </thead>\n",
       "  <tbody>\n",
       "    <tr>\n",
       "      <th>0</th>\n",
       "      <td>0.892308</td>\n",
       "      <td>0.846154</td>\n",
       "      <td>0.846154</td>\n",
       "      <td>0.892308</td>\n",
       "      <td>0.923077</td>\n",
       "    </tr>\n",
       "    <tr>\n",
       "      <th>1</th>\n",
       "      <td>0.923077</td>\n",
       "      <td>0.938462</td>\n",
       "      <td>0.846154</td>\n",
       "      <td>0.953846</td>\n",
       "      <td>0.923077</td>\n",
       "    </tr>\n",
       "    <tr>\n",
       "      <th>2</th>\n",
       "      <td>0.861538</td>\n",
       "      <td>0.861538</td>\n",
       "      <td>0.846154</td>\n",
       "      <td>0.907692</td>\n",
       "      <td>0.876923</td>\n",
       "    </tr>\n",
       "    <tr>\n",
       "      <th>3</th>\n",
       "      <td>0.876923</td>\n",
       "      <td>0.861538</td>\n",
       "      <td>0.876923</td>\n",
       "      <td>0.876923</td>\n",
       "      <td>0.846154</td>\n",
       "    </tr>\n",
       "    <tr>\n",
       "      <th>4</th>\n",
       "      <td>0.876923</td>\n",
       "      <td>0.907692</td>\n",
       "      <td>0.830769</td>\n",
       "      <td>0.861538</td>\n",
       "      <td>0.876923</td>\n",
       "    </tr>\n",
       "    <tr>\n",
       "      <th>5</th>\n",
       "      <td>0.830769</td>\n",
       "      <td>0.815385</td>\n",
       "      <td>0.784615</td>\n",
       "      <td>0.830769</td>\n",
       "      <td>0.830769</td>\n",
       "    </tr>\n",
       "    <tr>\n",
       "      <th>6</th>\n",
       "      <td>0.876923</td>\n",
       "      <td>0.846154</td>\n",
       "      <td>0.846154</td>\n",
       "      <td>0.876923</td>\n",
       "      <td>0.907692</td>\n",
       "    </tr>\n",
       "    <tr>\n",
       "      <th>7</th>\n",
       "      <td>0.969231</td>\n",
       "      <td>0.938462</td>\n",
       "      <td>0.830769</td>\n",
       "      <td>0.969231</td>\n",
       "      <td>0.938462</td>\n",
       "    </tr>\n",
       "    <tr>\n",
       "      <th>8</th>\n",
       "      <td>0.876923</td>\n",
       "      <td>0.876923</td>\n",
       "      <td>0.830769</td>\n",
       "      <td>0.923077</td>\n",
       "      <td>0.907692</td>\n",
       "    </tr>\n",
       "    <tr>\n",
       "      <th>9</th>\n",
       "      <td>0.890625</td>\n",
       "      <td>0.906250</td>\n",
       "      <td>0.875000</td>\n",
       "      <td>0.906250</td>\n",
       "      <td>0.921875</td>\n",
       "    </tr>\n",
       "  </tbody>\n",
       "</table>\n",
       "</div>"
      ],
      "text/plain": [
       "        MLP       SVM       KNN        DT        RF\n",
       "0  0.892308  0.846154  0.846154  0.892308  0.923077\n",
       "1  0.923077  0.938462  0.846154  0.953846  0.923077\n",
       "2  0.861538  0.861538  0.846154  0.907692  0.876923\n",
       "3  0.876923  0.861538  0.876923  0.876923  0.846154\n",
       "4  0.876923  0.907692  0.830769  0.861538  0.876923\n",
       "5  0.830769  0.815385  0.784615  0.830769  0.830769\n",
       "6  0.876923  0.846154  0.846154  0.876923  0.907692\n",
       "7  0.969231  0.938462  0.830769  0.969231  0.938462\n",
       "8  0.876923  0.876923  0.830769  0.923077  0.907692\n",
       "9  0.890625  0.906250  0.875000  0.906250  0.921875"
      ]
     },
     "execution_count": 14,
     "metadata": {},
     "output_type": "execute_result"
    }
   ],
   "source": [
    "df_metrics_G1_class"
   ]
  },
  {
   "cell_type": "code",
   "execution_count": 15,
   "metadata": {
    "ExecuteTime": {
     "end_time": "2020-07-08T20:23:38.854365Z",
     "start_time": "2020-07-08T20:23:38.848326Z"
    }
   },
   "outputs": [
    {
     "data": {
      "text/plain": [
       "MLP    0.887524\n",
       "SVM    0.879856\n",
       "KNN    0.841346\n",
       "DT     0.899856\n",
       "RF     0.895264\n",
       "dtype: float64"
      ]
     },
     "execution_count": 15,
     "metadata": {},
     "output_type": "execute_result"
    }
   ],
   "source": [
    "df_metrics_G1_class.mean()"
   ]
  },
  {
   "cell_type": "code",
   "execution_count": 16,
   "metadata": {
    "ExecuteTime": {
     "end_time": "2020-07-08T20:23:38.862326Z",
     "start_time": "2020-07-08T20:23:38.856304Z"
    }
   },
   "outputs": [
    {
     "data": {
      "text/plain": [
       "MLP    0.036996\n",
       "SVM    0.041431\n",
       "KNN    0.025916\n",
       "DT     0.041792\n",
       "RF     0.036016\n",
       "dtype: float64"
      ]
     },
     "execution_count": 16,
     "metadata": {},
     "output_type": "execute_result"
    }
   ],
   "source": [
    "df_metrics_G1_class.std()"
   ]
  },
  {
   "cell_type": "markdown",
   "metadata": {},
   "source": [
    "#### Teste de Friedman e Nemenyi (se necessário)"
   ]
  },
  {
   "cell_type": "code",
   "execution_count": 17,
   "metadata": {
    "ExecuteTime": {
     "end_time": "2020-07-08T20:23:38.928122Z",
     "start_time": "2020-07-08T20:23:38.863285Z"
    }
   },
   "outputs": [
    {
     "name": "stdout",
     "output_type": "stream",
     "text": [
      "Statistics=18.276, p=0.00108974\n",
      "Different distributions (reject H0)\n"
     ]
    },
    {
     "data": {
      "image/png": "[encoded data removed]",
      "text/plain": [
       "<Figure size 432x126 with 1 Axes>"
      ]
     },
     "metadata": {},
     "output_type": "display_data"
    }
   ],
   "source": [
    "df_score_G1_class = friedman_nemenyi_tests_class(df_metrics_G1_class, \"[G1]\")"
   ]
  },
  {
   "cell_type": "markdown",
   "metadata": {},
   "source": [
    "### Combinação [G2]"
   ]
  },
  {
   "cell_type": "markdown",
   "metadata": {},
   "source": [
    "#### Busca dos melhores modelos"
   ]
  },
  {
   "cell_type": "code",
   "execution_count": 18,
   "metadata": {
    "ExecuteTime": {
     "end_time": "2020-07-08T20:26:27.287342Z",
     "start_time": "2020-07-08T20:23:38.929090Z"
    }
   },
   "outputs": [],
   "source": [
    "X = base_class.drop(columns = ['G1','G3']).to_numpy()\n",
    "df_metrics_G2_class = search_class(X,y,n_splits,random_state,algorithms_class)"
   ]
  },
  {
   "cell_type": "markdown",
   "metadata": {},
   "source": [
    "##### Performance dos modelos"
   ]
  },
  {
   "cell_type": "code",
   "execution_count": 19,
   "metadata": {
    "ExecuteTime": {
     "end_time": "2020-07-08T20:26:27.302901Z",
     "start_time": "2020-07-08T20:26:27.287342Z"
    }
   },
   "outputs": [
    {
     "data": {
      "text/html": [
       "<div>\n",
       "<style scoped>\n",
       "    .dataframe tbody tr th:only-of-type {\n",
       "        vertical-align: middle;\n",
       "    }\n",
       "\n",
       "    .dataframe tbody tr th {\n",
       "        vertical-align: top;\n",
       "    }\n",
       "\n",
       "    .dataframe thead th {\n",
       "        text-align: right;\n",
       "    }\n",
       "</style>\n",
       "<table border=\"1\" class=\"dataframe\">\n",
       "  <thead>\n",
       "    <tr style=\"text-align: right;\">\n",
       "      <th></th>\n",
       "      <th>MLP</th>\n",
       "      <th>SVM</th>\n",
       "      <th>KNN</th>\n",
       "      <th>DT</th>\n",
       "      <th>RF</th>\n",
       "    </tr>\n",
       "  </thead>\n",
       "  <tbody>\n",
       "    <tr>\n",
       "      <th>0</th>\n",
       "      <td>0.876923</td>\n",
       "      <td>0.876923</td>\n",
       "      <td>0.846154</td>\n",
       "      <td>0.907692</td>\n",
       "      <td>0.953846</td>\n",
       "    </tr>\n",
       "    <tr>\n",
       "      <th>1</th>\n",
       "      <td>0.953846</td>\n",
       "      <td>0.953846</td>\n",
       "      <td>0.830769</td>\n",
       "      <td>0.938462</td>\n",
       "      <td>0.923077</td>\n",
       "    </tr>\n",
       "    <tr>\n",
       "      <th>2</th>\n",
       "      <td>0.892308</td>\n",
       "      <td>0.876923</td>\n",
       "      <td>0.861538</td>\n",
       "      <td>0.923077</td>\n",
       "      <td>0.938462</td>\n",
       "    </tr>\n",
       "    <tr>\n",
       "      <th>3</th>\n",
       "      <td>0.938462</td>\n",
       "      <td>0.923077</td>\n",
       "      <td>0.861538</td>\n",
       "      <td>0.938462</td>\n",
       "      <td>0.938462</td>\n",
       "    </tr>\n",
       "    <tr>\n",
       "      <th>4</th>\n",
       "      <td>0.876923</td>\n",
       "      <td>0.923077</td>\n",
       "      <td>0.815385</td>\n",
       "      <td>0.892308</td>\n",
       "      <td>0.892308</td>\n",
       "    </tr>\n",
       "    <tr>\n",
       "      <th>5</th>\n",
       "      <td>0.892308</td>\n",
       "      <td>0.876923</td>\n",
       "      <td>0.784615</td>\n",
       "      <td>0.830769</td>\n",
       "      <td>0.876923</td>\n",
       "    </tr>\n",
       "    <tr>\n",
       "      <th>6</th>\n",
       "      <td>0.876923</td>\n",
       "      <td>0.876923</td>\n",
       "      <td>0.846154</td>\n",
       "      <td>0.892308</td>\n",
       "      <td>0.923077</td>\n",
       "    </tr>\n",
       "    <tr>\n",
       "      <th>7</th>\n",
       "      <td>0.907692</td>\n",
       "      <td>0.892308</td>\n",
       "      <td>0.830769</td>\n",
       "      <td>0.923077</td>\n",
       "      <td>0.953846</td>\n",
       "    </tr>\n",
       "    <tr>\n",
       "      <th>8</th>\n",
       "      <td>0.923077</td>\n",
       "      <td>0.907692</td>\n",
       "      <td>0.815385</td>\n",
       "      <td>0.938462</td>\n",
       "      <td>0.953846</td>\n",
       "    </tr>\n",
       "    <tr>\n",
       "      <th>9</th>\n",
       "      <td>0.921875</td>\n",
       "      <td>0.921875</td>\n",
       "      <td>0.890625</td>\n",
       "      <td>0.921875</td>\n",
       "      <td>0.953125</td>\n",
       "    </tr>\n",
       "  </tbody>\n",
       "</table>\n",
       "</div>"
      ],
      "text/plain": [
       "        MLP       SVM       KNN        DT        RF\n",
       "0  0.876923  0.876923  0.846154  0.907692  0.953846\n",
       "1  0.953846  0.953846  0.830769  0.938462  0.923077\n",
       "2  0.892308  0.876923  0.861538  0.923077  0.938462\n",
       "3  0.938462  0.923077  0.861538  0.938462  0.938462\n",
       "4  0.876923  0.923077  0.815385  0.892308  0.892308\n",
       "5  0.892308  0.876923  0.784615  0.830769  0.876923\n",
       "6  0.876923  0.876923  0.846154  0.892308  0.923077\n",
       "7  0.907692  0.892308  0.830769  0.923077  0.953846\n",
       "8  0.923077  0.907692  0.815385  0.938462  0.953846\n",
       "9  0.921875  0.921875  0.890625  0.921875  0.953125"
      ]
     },
     "execution_count": 19,
     "metadata": {},
     "output_type": "execute_result"
    }
   ],
   "source": [
    "df_metrics_G2_class"
   ]
  },
  {
   "cell_type": "code",
   "execution_count": 20,
   "metadata": {
    "ExecuteTime": {
     "end_time": "2020-07-08T20:26:27.316322Z",
     "start_time": "2020-07-08T20:26:27.305308Z"
    }
   },
   "outputs": [
    {
     "data": {
      "text/plain": [
       "MLP    0.906034\n",
       "SVM    0.902957\n",
       "KNN    0.838293\n",
       "DT     0.910649\n",
       "RF     0.930697\n",
       "dtype: float64"
      ]
     },
     "execution_count": 20,
     "metadata": {},
     "output_type": "execute_result"
    }
   ],
   "source": [
    "df_metrics_G2_class.mean()"
   ]
  },
  {
   "cell_type": "code",
   "execution_count": 21,
   "metadata": {
    "ExecuteTime": {
     "end_time": "2020-07-08T20:26:27.323504Z",
     "start_time": "2020-07-08T20:26:27.317276Z"
    }
   },
   "outputs": [
    {
     "data": {
      "text/plain": [
       "MLP    0.027489\n",
       "SVM    0.027089\n",
       "KNN    0.029790\n",
       "DT     0.033028\n",
       "RF     0.027310\n",
       "dtype: float64"
      ]
     },
     "execution_count": 21,
     "metadata": {},
     "output_type": "execute_result"
    }
   ],
   "source": [
    "df_metrics_G2_class.std()"
   ]
  },
  {
   "cell_type": "markdown",
   "metadata": {},
   "source": [
    "#### Teste de Friedman e Nemenyi (se necessário)"
   ]
  },
  {
   "cell_type": "code",
   "execution_count": 22,
   "metadata": {
    "ExecuteTime": {
     "end_time": "2020-07-08T20:26:27.380351Z",
     "start_time": "2020-07-08T20:26:27.325499Z"
    }
   },
   "outputs": [
    {
     "name": "stdout",
     "output_type": "stream",
     "text": [
      "Statistics=25.947, p=3.24401e-05\n",
      "Different distributions (reject H0)\n"
     ]
    },
    {
     "data": {
      "image/png": "[encoded data removed]",
      "text/plain": [
       "<Figure size 432x126 with 1 Axes>"
      ]
     },
     "metadata": {},
     "output_type": "display_data"
    }
   ],
   "source": [
    "df_score_G2_class = friedman_nemenyi_tests_class(df_metrics_G2_class, \"[G2]\")"
   ]
  },
  {
   "cell_type": "markdown",
   "metadata": {},
   "source": [
    "### Combinação [G1, G2]"
   ]
  },
  {
   "cell_type": "markdown",
   "metadata": {},
   "source": [
    "#### Busca dos melhores modelos"
   ]
  },
  {
   "cell_type": "code",
   "execution_count": 23,
   "metadata": {
    "ExecuteTime": {
     "end_time": "2020-07-08T20:29:12.356372Z",
     "start_time": "2020-07-08T20:26:27.381348Z"
    }
   },
   "outputs": [],
   "source": [
    "X = base_class.drop(columns = ['G3']).to_numpy()\n",
    "df_metrics_G1_G2_class = search_class(X,y,n_splits,random_state,algorithms_class)"
   ]
  },
  {
   "cell_type": "markdown",
   "metadata": {},
   "source": [
    "##### Performance dos modelos"
   ]
  },
  {
   "cell_type": "code",
   "execution_count": 24,
   "metadata": {
    "ExecuteTime": {
     "end_time": "2020-07-08T20:29:12.365941Z",
     "start_time": "2020-07-08T20:29:12.356372Z"
    }
   },
   "outputs": [
    {
     "data": {
      "text/html": [
       "<div>\n",
       "<style scoped>\n",
       "    .dataframe tbody tr th:only-of-type {\n",
       "        vertical-align: middle;\n",
       "    }\n",
       "\n",
       "    .dataframe tbody tr th {\n",
       "        vertical-align: top;\n",
       "    }\n",
       "\n",
       "    .dataframe thead th {\n",
       "        text-align: right;\n",
       "    }\n",
       "</style>\n",
       "<table border=\"1\" class=\"dataframe\">\n",
       "  <thead>\n",
       "    <tr style=\"text-align: right;\">\n",
       "      <th></th>\n",
       "      <th>MLP</th>\n",
       "      <th>SVM</th>\n",
       "      <th>KNN</th>\n",
       "      <th>DT</th>\n",
       "      <th>RF</th>\n",
       "    </tr>\n",
       "  </thead>\n",
       "  <tbody>\n",
       "    <tr>\n",
       "      <th>0</th>\n",
       "      <td>0.923077</td>\n",
       "      <td>0.876923</td>\n",
       "      <td>0.861538</td>\n",
       "      <td>0.923077</td>\n",
       "      <td>0.923077</td>\n",
       "    </tr>\n",
       "    <tr>\n",
       "      <th>1</th>\n",
       "      <td>0.892308</td>\n",
       "      <td>0.938462</td>\n",
       "      <td>0.846154</td>\n",
       "      <td>0.938462</td>\n",
       "      <td>0.923077</td>\n",
       "    </tr>\n",
       "    <tr>\n",
       "      <th>2</th>\n",
       "      <td>0.892308</td>\n",
       "      <td>0.923077</td>\n",
       "      <td>0.861538</td>\n",
       "      <td>0.892308</td>\n",
       "      <td>0.923077</td>\n",
       "    </tr>\n",
       "    <tr>\n",
       "      <th>3</th>\n",
       "      <td>0.892308</td>\n",
       "      <td>0.923077</td>\n",
       "      <td>0.861538</td>\n",
       "      <td>0.923077</td>\n",
       "      <td>0.923077</td>\n",
       "    </tr>\n",
       "    <tr>\n",
       "      <th>4</th>\n",
       "      <td>0.892308</td>\n",
       "      <td>0.892308</td>\n",
       "      <td>0.815385</td>\n",
       "      <td>0.861538</td>\n",
       "      <td>0.938462</td>\n",
       "    </tr>\n",
       "    <tr>\n",
       "      <th>5</th>\n",
       "      <td>0.876923</td>\n",
       "      <td>0.846154</td>\n",
       "      <td>0.815385</td>\n",
       "      <td>0.876923</td>\n",
       "      <td>0.892308</td>\n",
       "    </tr>\n",
       "    <tr>\n",
       "      <th>6</th>\n",
       "      <td>0.923077</td>\n",
       "      <td>0.907692</td>\n",
       "      <td>0.846154</td>\n",
       "      <td>0.907692</td>\n",
       "      <td>0.969231</td>\n",
       "    </tr>\n",
       "    <tr>\n",
       "      <th>7</th>\n",
       "      <td>0.907692</td>\n",
       "      <td>0.923077</td>\n",
       "      <td>0.861538</td>\n",
       "      <td>0.938462</td>\n",
       "      <td>0.969231</td>\n",
       "    </tr>\n",
       "    <tr>\n",
       "      <th>8</th>\n",
       "      <td>0.953846</td>\n",
       "      <td>0.938462</td>\n",
       "      <td>0.830769</td>\n",
       "      <td>0.938462</td>\n",
       "      <td>0.953846</td>\n",
       "    </tr>\n",
       "    <tr>\n",
       "      <th>9</th>\n",
       "      <td>0.921875</td>\n",
       "      <td>0.890625</td>\n",
       "      <td>0.890625</td>\n",
       "      <td>0.921875</td>\n",
       "      <td>0.937500</td>\n",
       "    </tr>\n",
       "  </tbody>\n",
       "</table>\n",
       "</div>"
      ],
      "text/plain": [
       "        MLP       SVM       KNN        DT        RF\n",
       "0  0.923077  0.876923  0.861538  0.923077  0.923077\n",
       "1  0.892308  0.938462  0.846154  0.938462  0.923077\n",
       "2  0.892308  0.923077  0.861538  0.892308  0.923077\n",
       "3  0.892308  0.923077  0.861538  0.923077  0.923077\n",
       "4  0.892308  0.892308  0.815385  0.861538  0.938462\n",
       "5  0.876923  0.846154  0.815385  0.876923  0.892308\n",
       "6  0.923077  0.907692  0.846154  0.907692  0.969231\n",
       "7  0.907692  0.923077  0.861538  0.938462  0.969231\n",
       "8  0.953846  0.938462  0.830769  0.938462  0.953846\n",
       "9  0.921875  0.890625  0.890625  0.921875  0.937500"
      ]
     },
     "execution_count": 24,
     "metadata": {},
     "output_type": "execute_result"
    }
   ],
   "source": [
    "df_metrics_G1_G2_class"
   ]
  },
  {
   "cell_type": "code",
   "execution_count": 25,
   "metadata": {
    "ExecuteTime": {
     "end_time": "2020-07-08T20:29:12.376911Z",
     "start_time": "2020-07-08T20:29:12.370927Z"
    }
   },
   "outputs": [
    {
     "data": {
      "text/plain": [
       "MLP    0.907572\n",
       "SVM    0.905986\n",
       "KNN    0.849062\n",
       "DT     0.912188\n",
       "RF     0.935288\n",
       "dtype: float64"
      ]
     },
     "execution_count": 25,
     "metadata": {},
     "output_type": "execute_result"
    }
   ],
   "source": [
    "df_metrics_G1_G2_class.mean()"
   ]
  },
  {
   "cell_type": "code",
   "execution_count": 26,
   "metadata": {
    "ExecuteTime": {
     "end_time": "2020-07-08T20:29:12.384889Z",
     "start_time": "2020-07-08T20:29:12.379904Z"
    }
   },
   "outputs": [
    {
     "data": {
      "text/plain": [
       "MLP    0.022847\n",
       "SVM    0.029507\n",
       "KNN    0.023499\n",
       "DT     0.027134\n",
       "RF     0.023822\n",
       "dtype: float64"
      ]
     },
     "execution_count": 26,
     "metadata": {},
     "output_type": "execute_result"
    }
   ],
   "source": [
    "df_metrics_G1_G2_class.std()"
   ]
  },
  {
   "cell_type": "markdown",
   "metadata": {},
   "source": [
    "#### Teste de Friedman e Nemenyi (se necessário)"
   ]
  },
  {
   "cell_type": "code",
   "execution_count": 27,
   "metadata": {
    "ExecuteTime": {
     "end_time": "2020-07-08T20:29:12.443769Z",
     "start_time": "2020-07-08T20:29:12.386886Z"
    }
   },
   "outputs": [
    {
     "name": "stdout",
     "output_type": "stream",
     "text": [
      "Statistics=27.099, p=1.89843e-05\n",
      "Different distributions (reject H0)\n"
     ]
    },
    {
     "data": {
      "image/png": "[encoded data removed]",
      "text/plain": [
       "<Figure size 432x118.8 with 1 Axes>"
      ]
     },
     "metadata": {},
     "output_type": "display_data"
    }
   ],
   "source": [
    "df_score_G1_G2_class = friedman_nemenyi_tests_class(df_metrics_G1_G2_class, \"[G1, G2]\")"
   ]
  },
  {
   "cell_type": "markdown",
   "metadata": {},
   "source": [
    "---"
   ]
  },
  {
   "cell_type": "markdown",
   "metadata": {},
   "source": [
    "## Tarefas de Regressão"
   ]
  },
  {
   "cell_type": "markdown",
   "metadata": {},
   "source": [
    "### Função de pré-processamento"
   ]
  },
  {
   "cell_type": "code",
   "execution_count": 28,
   "metadata": {},
   "outputs": [],
   "source": [
    "def preprocess_regr(base):\n",
    "\n",
    "    base = base.drop(['school'], axis=1)\n",
    "    base = base.replace(['LE3', 'GT3'], [0,1])\n",
    "    items = ['sex', 'address','Pstatus','Mjob','Fjob','reason','guardian','schoolsup','famsup','paid','activities','nursery','higher',\n",
    "             'internet','romantic']\n",
    "    \n",
    "    for item in items:\n",
    "        base = pd.concat([base,pd.get_dummies(base[item], prefix=item)],axis=1)\n",
    "        base = base.drop([item],axis=1)\n",
    "        \n",
    "    return base"
   ]
  },
  {
   "cell_type": "markdown",
   "metadata": {},
   "source": [
    "### Função de treinamento e teste com base nos algoritmos escolhidos"
   ]
  },
  {
   "cell_type": "code",
   "execution_count": 29,
   "metadata": {},
   "outputs": [],
   "source": [
    "def search_regr(X, y, n_splits, random_state, algorithms, title):\n",
    "    kf = KFold(n_splits=10, shuffle=True, random_state=random_state)\n",
    "    gskf = KFold(n_splits=3, shuffle=True, random_state=random_state)\n",
    "    perf = mean_squared_error\n",
    "    \n",
    "    score = {}\n",
    "    for algorithm in algorithms.keys():\n",
    "        score[algorithm] = []\n",
    "    \n",
    "    for algorithm, (clf, parameters) in algorithms.items():\n",
    "        for train, test in kf.split(X, y):\n",
    "            prep = StandardScaler()\n",
    "            \n",
    "            prep.fit(X[train])\n",
    "            \n",
    "            best = GridSearchCV(clf, parameters, cv=gskf, scoring=make_scorer(perf))\n",
    "            best.fit(prep.transform(X[train]), y[train])\n",
    "            score[algorithm].append(perf(best.predict(prep.transform(X[test])), y[test]))\n",
    "            \n",
    "    df_metrics = pd.DataFrame.from_dict(score)\n",
    "    return df_metrics"
   ]
  },
  {
   "cell_type": "markdown",
   "metadata": {},
   "source": [
    "### Função que executa o teste de Friedman e Nemenyi (se necessário)"
   ]
  },
  {
   "cell_type": "code",
   "execution_count": 30,
   "metadata": {},
   "outputs": [],
   "source": [
    "def friedman_nemenyi_tests_regr(df_metrics, title):   \n",
    "    \n",
    "    df_score = df_metrics.rank(axis=1, ascending=True)\n",
    "    \n",
    "    stat, p = friedmanchisquare(*[grp for idx, grp in df_score.iteritems()])\n",
    "    \n",
    "    print('Statistics=%.3f, p=%g' % (stat, p))\n",
    "    \n",
    "    alpha = 0.05\n",
    "    if p > alpha:\n",
    "        print('Same distributions (fail to reject H0)')\n",
    "    else:\n",
    "        print(\"Different distributions (reject H0)\")\n",
    "        names = list(df_score.columns)\n",
    "        avranks = df_score.mean().values.tolist()\n",
    "        cd = Orange.evaluation.compute_CD(avranks, n_splits)\n",
    "        Orange.evaluation.graph_ranks(avranks, names, cd=cd, width=6, textspace=1.5)\n",
    "        plt.title(title)\n",
    "        plt.show()\n",
    "    return df_score"
   ]
  },
  {
   "cell_type": "markdown",
   "metadata": {},
   "source": [
    "### Algoritmos e hiperparâmetros testados"
   ]
  },
  {
   "cell_type": "code",
   "execution_count": 31,
   "metadata": {},
   "outputs": [],
   "source": [
    "algorithms_regr = {\n",
    "    \"MLP\": (MLPRegressor(), { \"activation\": [\"identity\", \"tanh\", \"relu\"], \"solver\": [\"lbfgs\", \"adam\"], \"max_iter\": [1500], \"random_state\": [1]}),\n",
    "    \"SVM\": (SVR(), {\"C\": [1.0], \"kernel\": (\"linear\", \"rbf\", \"poly\", \"sigmoid\")}),\n",
    "    \"KNN\": (KNeighborsRegressor(), { \"n_neighbors\": [1, 3, 5] }),\n",
    "    \"DT\" : (DecisionTreeRegressor(), { \"criterion\": (\"mse\", \"friedman_mse\", \"mae\"), \"max_depth\": [5, 10, 20], \"random_state\": [3]}),\n",
    "    \"RF\" : (RandomForestRegressor(), { \"criterion\": (\"mse\", \"mae\"), \"max_depth\": [5, 10, 20], \"n_estimators\": [30,50,100], \"random_state\": [4]})\n",
    "}"
   ]
  },
  {
   "cell_type": "markdown",
   "metadata": {},
   "source": [
    "### Leitura da base_regr, pré-processamento e definição do atributo-alvo"
   ]
  },
  {
   "cell_type": "code",
   "execution_count": 32,
   "metadata": {},
   "outputs": [],
   "source": [
    "base_regr = preprocess_regr(base)\n",
    "\n",
    "y = base_regr['G3'].to_numpy()"
   ]
  },
  {
   "cell_type": "markdown",
   "metadata": {},
   "source": [
    "### Combinação [  ]"
   ]
  },
  {
   "cell_type": "markdown",
   "metadata": {},
   "source": [
    "#### Busca dos melhores modelos"
   ]
  },
  {
   "cell_type": "code",
   "execution_count": 33,
   "metadata": {},
   "outputs": [],
   "source": [
    "X = base_regr.drop(columns = ['G3', 'G1', 'G2']).to_numpy()\n",
    "df_G3_regr = search_regr(X,y,n_splits,random_state,algorithms_regr, \"G3 from []\")"
   ]
  },
  {
   "cell_type": "markdown",
   "metadata": {},
   "source": [
    "##### Performance dos modelos"
   ]
  },
  {
   "cell_type": "code",
   "execution_count": 34,
   "metadata": {},
   "outputs": [
    {
     "data": {
      "text/html": [
       "<div>\n",
       "<style scoped>\n",
       "    .dataframe tbody tr th:only-of-type {\n",
       "        vertical-align: middle;\n",
       "    }\n",
       "\n",
       "    .dataframe tbody tr th {\n",
       "        vertical-align: top;\n",
       "    }\n",
       "\n",
       "    .dataframe thead th {\n",
       "        text-align: right;\n",
       "    }\n",
       "</style>\n",
       "<table border=\"1\" class=\"dataframe\">\n",
       "  <thead>\n",
       "    <tr style=\"text-align: right;\">\n",
       "      <th></th>\n",
       "      <th>MLP</th>\n",
       "      <th>SVM</th>\n",
       "      <th>KNN</th>\n",
       "      <th>DT</th>\n",
       "      <th>RF</th>\n",
       "    </tr>\n",
       "  </thead>\n",
       "  <tbody>\n",
       "    <tr>\n",
       "      <th>0</th>\n",
       "      <td>8.957169</td>\n",
       "      <td>5.785633</td>\n",
       "      <td>13.123077</td>\n",
       "      <td>9.938462</td>\n",
       "      <td>5.077979</td>\n",
       "    </tr>\n",
       "    <tr>\n",
       "      <th>1</th>\n",
       "      <td>11.538370</td>\n",
       "      <td>6.292831</td>\n",
       "      <td>11.738462</td>\n",
       "      <td>8.015385</td>\n",
       "      <td>6.199209</td>\n",
       "    </tr>\n",
       "    <tr>\n",
       "      <th>2</th>\n",
       "      <td>16.097307</td>\n",
       "      <td>8.160290</td>\n",
       "      <td>12.215385</td>\n",
       "      <td>18.323077</td>\n",
       "      <td>8.923252</td>\n",
       "    </tr>\n",
       "    <tr>\n",
       "      <th>3</th>\n",
       "      <td>9.696998</td>\n",
       "      <td>5.773448</td>\n",
       "      <td>19.138462</td>\n",
       "      <td>15.184615</td>\n",
       "      <td>7.203675</td>\n",
       "    </tr>\n",
       "    <tr>\n",
       "      <th>4</th>\n",
       "      <td>13.456865</td>\n",
       "      <td>6.138146</td>\n",
       "      <td>12.569231</td>\n",
       "      <td>13.953846</td>\n",
       "      <td>6.535145</td>\n",
       "    </tr>\n",
       "    <tr>\n",
       "      <th>5</th>\n",
       "      <td>17.233510</td>\n",
       "      <td>16.053183</td>\n",
       "      <td>19.092308</td>\n",
       "      <td>16.861538</td>\n",
       "      <td>12.866480</td>\n",
       "    </tr>\n",
       "    <tr>\n",
       "      <th>6</th>\n",
       "      <td>14.039205</td>\n",
       "      <td>7.842609</td>\n",
       "      <td>17.153846</td>\n",
       "      <td>15.246154</td>\n",
       "      <td>5.278179</td>\n",
       "    </tr>\n",
       "    <tr>\n",
       "      <th>7</th>\n",
       "      <td>14.393651</td>\n",
       "      <td>12.526303</td>\n",
       "      <td>16.815385</td>\n",
       "      <td>21.588462</td>\n",
       "      <td>12.754197</td>\n",
       "    </tr>\n",
       "    <tr>\n",
       "      <th>8</th>\n",
       "      <td>9.988358</td>\n",
       "      <td>5.663563</td>\n",
       "      <td>8.923077</td>\n",
       "      <td>18.092308</td>\n",
       "      <td>6.362695</td>\n",
       "    </tr>\n",
       "    <tr>\n",
       "      <th>9</th>\n",
       "      <td>16.411241</td>\n",
       "      <td>7.982418</td>\n",
       "      <td>20.718750</td>\n",
       "      <td>14.412309</td>\n",
       "      <td>8.405768</td>\n",
       "    </tr>\n",
       "  </tbody>\n",
       "</table>\n",
       "</div>"
      ],
      "text/plain": [
       "         MLP        SVM        KNN         DT         RF\n",
       "0   8.957169   5.785633  13.123077   9.938462   5.077979\n",
       "1  11.538370   6.292831  11.738462   8.015385   6.199209\n",
       "2  16.097307   8.160290  12.215385  18.323077   8.923252\n",
       "3   9.696998   5.773448  19.138462  15.184615   7.203675\n",
       "4  13.456865   6.138146  12.569231  13.953846   6.535145\n",
       "5  17.233510  16.053183  19.092308  16.861538  12.866480\n",
       "6  14.039205   7.842609  17.153846  15.246154   5.278179\n",
       "7  14.393651  12.526303  16.815385  21.588462  12.754197\n",
       "8   9.988358   5.663563   8.923077  18.092308   6.362695\n",
       "9  16.411241   7.982418  20.718750  14.412309   8.405768"
      ]
     },
     "execution_count": 34,
     "metadata": {},
     "output_type": "execute_result"
    }
   ],
   "source": [
    "df_G3_regr"
   ]
  },
  {
   "cell_type": "code",
   "execution_count": 35,
   "metadata": {},
   "outputs": [
    {
     "data": {
      "text/plain": [
       "MLP    13.181267\n",
       "SVM     8.221842\n",
       "KNN    15.148798\n",
       "DT     15.161616\n",
       "RF      7.960658\n",
       "dtype: float64"
      ]
     },
     "execution_count": 35,
     "metadata": {},
     "output_type": "execute_result"
    }
   ],
   "source": [
    "df_G3_regr.mean()"
   ]
  },
  {
   "cell_type": "code",
   "execution_count": 36,
   "metadata": {},
   "outputs": [
    {
     "data": {
      "text/plain": [
       "MLP    2.991014\n",
       "SVM    3.441586\n",
       "KNN    3.930556\n",
       "DT     3.988256\n",
       "RF     2.827182\n",
       "dtype: float64"
      ]
     },
     "execution_count": 36,
     "metadata": {},
     "output_type": "execute_result"
    }
   ],
   "source": [
    "df_G3_regr.std()"
   ]
  },
  {
   "cell_type": "markdown",
   "metadata": {},
   "source": [
    "#### Teste de Friedman e Nemenyi (se necessário)"
   ]
  },
  {
   "cell_type": "code",
   "execution_count": 38,
   "metadata": {},
   "outputs": [
    {
     "name": "stdout",
     "output_type": "stream",
     "text": [
      "Statistics=31.120, p=2.8936e-06\n",
      "Different distributions (reject H0)\n"
     ]
    },
    {
     "data": {
      "image/png": "[encoded data removed]",
      "text/plain": [
       "<Figure size 432x126 with 1 Axes>"
      ]
     },
     "metadata": {},
     "output_type": "display_data"
    }
   ],
   "source": [
    "df_score_G3_regr = friedman_nemenyi_tests_regr(df_G3_regr, \"[]\")"
   ]
  },
  {
   "cell_type": "markdown",
   "metadata": {},
   "source": [
    "### Combinação [G1]"
   ]
  },
  {
   "cell_type": "markdown",
   "metadata": {},
   "source": [
    "#### Busca dos melhores modelos"
   ]
  },
  {
   "cell_type": "code",
   "execution_count": 39,
   "metadata": {},
   "outputs": [],
   "source": [
    "X = base_regr.drop(columns = ['G3', 'G2']).to_numpy()\n",
    "df_G3_from_G1_regr = search_regr(X,y,n_splits,random_state,algorithms_regr, \"G3 from [G1]\")"
   ]
  },
  {
   "cell_type": "markdown",
   "metadata": {},
   "source": [
    "##### Performance dos modelos"
   ]
  },
  {
   "cell_type": "code",
   "execution_count": 40,
   "metadata": {},
   "outputs": [
    {
     "data": {
      "text/html": [
       "<div>\n",
       "<style scoped>\n",
       "    .dataframe tbody tr th:only-of-type {\n",
       "        vertical-align: middle;\n",
       "    }\n",
       "\n",
       "    .dataframe tbody tr th {\n",
       "        vertical-align: top;\n",
       "    }\n",
       "\n",
       "    .dataframe thead th {\n",
       "        text-align: right;\n",
       "    }\n",
       "</style>\n",
       "<table border=\"1\" class=\"dataframe\">\n",
       "  <thead>\n",
       "    <tr style=\"text-align: right;\">\n",
       "      <th></th>\n",
       "      <th>MLP</th>\n",
       "      <th>SVM</th>\n",
       "      <th>KNN</th>\n",
       "      <th>DT</th>\n",
       "      <th>RF</th>\n",
       "    </tr>\n",
       "  </thead>\n",
       "  <tbody>\n",
       "    <tr>\n",
       "      <th>0</th>\n",
       "      <td>3.715667</td>\n",
       "      <td>4.364121</td>\n",
       "      <td>10.692308</td>\n",
       "      <td>2.446154</td>\n",
       "      <td>1.911286</td>\n",
       "    </tr>\n",
       "    <tr>\n",
       "      <th>1</th>\n",
       "      <td>2.996901</td>\n",
       "      <td>4.458430</td>\n",
       "      <td>7.476923</td>\n",
       "      <td>3.292308</td>\n",
       "      <td>1.765890</td>\n",
       "    </tr>\n",
       "    <tr>\n",
       "      <th>2</th>\n",
       "      <td>4.951696</td>\n",
       "      <td>6.604778</td>\n",
       "      <td>12.153846</td>\n",
       "      <td>5.046154</td>\n",
       "      <td>2.855145</td>\n",
       "    </tr>\n",
       "    <tr>\n",
       "      <th>3</th>\n",
       "      <td>4.831358</td>\n",
       "      <td>4.001410</td>\n",
       "      <td>19.107692</td>\n",
       "      <td>4.461538</td>\n",
       "      <td>1.928355</td>\n",
       "    </tr>\n",
       "    <tr>\n",
       "      <th>4</th>\n",
       "      <td>4.292236</td>\n",
       "      <td>4.563790</td>\n",
       "      <td>10.061538</td>\n",
       "      <td>4.707692</td>\n",
       "      <td>2.833709</td>\n",
       "    </tr>\n",
       "    <tr>\n",
       "      <th>5</th>\n",
       "      <td>6.468854</td>\n",
       "      <td>13.241699</td>\n",
       "      <td>17.169231</td>\n",
       "      <td>12.169231</td>\n",
       "      <td>7.705094</td>\n",
       "    </tr>\n",
       "    <tr>\n",
       "      <th>6</th>\n",
       "      <td>5.101721</td>\n",
       "      <td>5.893028</td>\n",
       "      <td>12.923077</td>\n",
       "      <td>6.215385</td>\n",
       "      <td>2.825026</td>\n",
       "    </tr>\n",
       "    <tr>\n",
       "      <th>7</th>\n",
       "      <td>7.329069</td>\n",
       "      <td>10.403940</td>\n",
       "      <td>14.661538</td>\n",
       "      <td>13.646154</td>\n",
       "      <td>5.413111</td>\n",
       "    </tr>\n",
       "    <tr>\n",
       "      <th>8</th>\n",
       "      <td>4.114523</td>\n",
       "      <td>4.278252</td>\n",
       "      <td>7.492308</td>\n",
       "      <td>4.892308</td>\n",
       "      <td>2.422235</td>\n",
       "    </tr>\n",
       "    <tr>\n",
       "      <th>9</th>\n",
       "      <td>5.455326</td>\n",
       "      <td>6.531843</td>\n",
       "      <td>14.171875</td>\n",
       "      <td>6.582031</td>\n",
       "      <td>3.022731</td>\n",
       "    </tr>\n",
       "  </tbody>\n",
       "</table>\n",
       "</div>"
      ],
      "text/plain": [
       "        MLP        SVM        KNN         DT        RF\n",
       "0  3.715667   4.364121  10.692308   2.446154  1.911286\n",
       "1  2.996901   4.458430   7.476923   3.292308  1.765890\n",
       "2  4.951696   6.604778  12.153846   5.046154  2.855145\n",
       "3  4.831358   4.001410  19.107692   4.461538  1.928355\n",
       "4  4.292236   4.563790  10.061538   4.707692  2.833709\n",
       "5  6.468854  13.241699  17.169231  12.169231  7.705094\n",
       "6  5.101721   5.893028  12.923077   6.215385  2.825026\n",
       "7  7.329069  10.403940  14.661538  13.646154  5.413111\n",
       "8  4.114523   4.278252   7.492308   4.892308  2.422235\n",
       "9  5.455326   6.531843  14.171875   6.582031  3.022731"
      ]
     },
     "execution_count": 40,
     "metadata": {},
     "output_type": "execute_result"
    }
   ],
   "source": [
    "df_G3_from_G1_regr"
   ]
  },
  {
   "cell_type": "code",
   "execution_count": 41,
   "metadata": {},
   "outputs": [
    {
     "data": {
      "text/plain": [
       "MLP     4.925735\n",
       "SVM     6.434129\n",
       "KNN    12.591034\n",
       "DT      6.345895\n",
       "RF      3.268258\n",
       "dtype: float64"
      ]
     },
     "execution_count": 41,
     "metadata": {},
     "output_type": "execute_result"
    }
   ],
   "source": [
    "df_G3_from_G1_regr.mean()"
   ]
  },
  {
   "cell_type": "code",
   "execution_count": 42,
   "metadata": {},
   "outputs": [
    {
     "data": {
      "text/plain": [
       "MLP    1.278988\n",
       "SVM    3.067505\n",
       "KNN    3.839398\n",
       "DT     3.679477\n",
       "RF     1.871177\n",
       "dtype: float64"
      ]
     },
     "execution_count": 42,
     "metadata": {},
     "output_type": "execute_result"
    }
   ],
   "source": [
    "df_G3_from_G1_regr.std()"
   ]
  },
  {
   "cell_type": "markdown",
   "metadata": {},
   "source": [
    "#### Teste de Friedman e Nemenyi (se necessário)"
   ]
  },
  {
   "cell_type": "code",
   "execution_count": 43,
   "metadata": {},
   "outputs": [
    {
     "name": "stdout",
     "output_type": "stream",
     "text": [
      "Statistics=34.000, p=7.45189e-07\n",
      "Different distributions (reject H0)\n"
     ]
    },
    {
     "data": {
      "image/png": "[encoded data removed]",
      "text/plain": [
       "<Figure size 432x133.2 with 1 Axes>"
      ]
     },
     "metadata": {},
     "output_type": "display_data"
    }
   ],
   "source": [
    "df_score_G3_from_G1_regr = friedman_nemenyi_tests_regr(df_G3_from_G1_regr, \"[G1]\")"
   ]
  },
  {
   "cell_type": "markdown",
   "metadata": {},
   "source": [
    "### Combinação [G2]"
   ]
  },
  {
   "cell_type": "markdown",
   "metadata": {},
   "source": [
    "#### Busca dos melhores modelos"
   ]
  },
  {
   "cell_type": "code",
   "execution_count": 44,
   "metadata": {},
   "outputs": [],
   "source": [
    "X = base_regr.drop(columns = ['G3', 'G1']).to_numpy()\n",
    "df_G3_from_G2_regr = search_regr(X,y,n_splits,random_state,algorithms_regr, \"G3 from [G2]\")"
   ]
  },
  {
   "cell_type": "markdown",
   "metadata": {},
   "source": [
    "##### Performance dos modelos"
   ]
  },
  {
   "cell_type": "code",
   "execution_count": 45,
   "metadata": {},
   "outputs": [
    {
     "data": {
      "text/html": [
       "<div>\n",
       "<style scoped>\n",
       "    .dataframe tbody tr th:only-of-type {\n",
       "        vertical-align: middle;\n",
       "    }\n",
       "\n",
       "    .dataframe tbody tr th {\n",
       "        vertical-align: top;\n",
       "    }\n",
       "\n",
       "    .dataframe thead th {\n",
       "        text-align: right;\n",
       "    }\n",
       "</style>\n",
       "<table border=\"1\" class=\"dataframe\">\n",
       "  <thead>\n",
       "    <tr style=\"text-align: right;\">\n",
       "      <th></th>\n",
       "      <th>MLP</th>\n",
       "      <th>SVM</th>\n",
       "      <th>KNN</th>\n",
       "      <th>DT</th>\n",
       "      <th>RF</th>\n",
       "    </tr>\n",
       "  </thead>\n",
       "  <tbody>\n",
       "    <tr>\n",
       "      <th>0</th>\n",
       "      <td>2.346132</td>\n",
       "      <td>3.902207</td>\n",
       "      <td>10.676923</td>\n",
       "      <td>1.165193</td>\n",
       "      <td>0.956995</td>\n",
       "    </tr>\n",
       "    <tr>\n",
       "      <th>1</th>\n",
       "      <td>2.225586</td>\n",
       "      <td>3.767947</td>\n",
       "      <td>8.338462</td>\n",
       "      <td>1.015385</td>\n",
       "      <td>0.823286</td>\n",
       "    </tr>\n",
       "    <tr>\n",
       "      <th>2</th>\n",
       "      <td>3.874255</td>\n",
       "      <td>5.948658</td>\n",
       "      <td>11.353846</td>\n",
       "      <td>1.415385</td>\n",
       "      <td>1.228359</td>\n",
       "    </tr>\n",
       "    <tr>\n",
       "      <th>3</th>\n",
       "      <td>2.742985</td>\n",
       "      <td>3.803701</td>\n",
       "      <td>11.800000</td>\n",
       "      <td>1.646154</td>\n",
       "      <td>0.965723</td>\n",
       "    </tr>\n",
       "    <tr>\n",
       "      <th>4</th>\n",
       "      <td>2.080170</td>\n",
       "      <td>3.440498</td>\n",
       "      <td>9.630769</td>\n",
       "      <td>2.046154</td>\n",
       "      <td>0.735218</td>\n",
       "    </tr>\n",
       "    <tr>\n",
       "      <th>5</th>\n",
       "      <td>6.071004</td>\n",
       "      <td>11.284361</td>\n",
       "      <td>13.200000</td>\n",
       "      <td>5.707692</td>\n",
       "      <td>3.567915</td>\n",
       "    </tr>\n",
       "    <tr>\n",
       "      <th>6</th>\n",
       "      <td>2.472518</td>\n",
       "      <td>5.373102</td>\n",
       "      <td>10.907692</td>\n",
       "      <td>4.246154</td>\n",
       "      <td>1.773641</td>\n",
       "    </tr>\n",
       "    <tr>\n",
       "      <th>7</th>\n",
       "      <td>5.124111</td>\n",
       "      <td>9.330505</td>\n",
       "      <td>12.953846</td>\n",
       "      <td>5.276923</td>\n",
       "      <td>3.818191</td>\n",
       "    </tr>\n",
       "    <tr>\n",
       "      <th>8</th>\n",
       "      <td>2.788175</td>\n",
       "      <td>3.937623</td>\n",
       "      <td>7.646154</td>\n",
       "      <td>5.261538</td>\n",
       "      <td>1.513735</td>\n",
       "    </tr>\n",
       "    <tr>\n",
       "      <th>9</th>\n",
       "      <td>3.547446</td>\n",
       "      <td>5.775268</td>\n",
       "      <td>12.703125</td>\n",
       "      <td>2.203125</td>\n",
       "      <td>1.953598</td>\n",
       "    </tr>\n",
       "  </tbody>\n",
       "</table>\n",
       "</div>"
      ],
      "text/plain": [
       "        MLP        SVM        KNN        DT        RF\n",
       "0  2.346132   3.902207  10.676923  1.165193  0.956995\n",
       "1  2.225586   3.767947   8.338462  1.015385  0.823286\n",
       "2  3.874255   5.948658  11.353846  1.415385  1.228359\n",
       "3  2.742985   3.803701  11.800000  1.646154  0.965723\n",
       "4  2.080170   3.440498   9.630769  2.046154  0.735218\n",
       "5  6.071004  11.284361  13.200000  5.707692  3.567915\n",
       "6  2.472518   5.373102  10.907692  4.246154  1.773641\n",
       "7  5.124111   9.330505  12.953846  5.276923  3.818191\n",
       "8  2.788175   3.937623   7.646154  5.261538  1.513735\n",
       "9  3.547446   5.775268  12.703125  2.203125  1.953598"
      ]
     },
     "execution_count": 45,
     "metadata": {},
     "output_type": "execute_result"
    }
   ],
   "source": [
    "df_G3_from_G2_regr"
   ]
  },
  {
   "cell_type": "code",
   "execution_count": 46,
   "metadata": {},
   "outputs": [
    {
     "data": {
      "text/plain": [
       "MLP     3.327238\n",
       "SVM     5.656387\n",
       "KNN    10.921082\n",
       "DT      2.998370\n",
       "RF      1.733666\n",
       "dtype: float64"
      ]
     },
     "execution_count": 46,
     "metadata": {},
     "output_type": "execute_result"
    }
   ],
   "source": [
    "df_G3_from_G2_regr.mean()"
   ]
  },
  {
   "cell_type": "code",
   "execution_count": 47,
   "metadata": {},
   "outputs": [
    {
     "data": {
      "text/plain": [
       "MLP    1.341583\n",
       "SVM    2.651900\n",
       "KNN    1.902654\n",
       "DT     1.896704\n",
       "RF     1.109656\n",
       "dtype: float64"
      ]
     },
     "execution_count": 47,
     "metadata": {},
     "output_type": "execute_result"
    }
   ],
   "source": [
    "df_G3_from_G2_regr.std()"
   ]
  },
  {
   "cell_type": "markdown",
   "metadata": {},
   "source": [
    "#### Teste de Friedman e Nemenyi (se necessário)"
   ]
  },
  {
   "cell_type": "code",
   "execution_count": 48,
   "metadata": {},
   "outputs": [
    {
     "name": "stdout",
     "output_type": "stream",
     "text": [
      "Statistics=37.040, p=1.76745e-07\n",
      "Different distributions (reject H0)\n"
     ]
    },
    {
     "data": {
      "image/png": "[encoded data removed]",
      "text/plain": [
       "<Figure size 432x133.2 with 1 Axes>"
      ]
     },
     "metadata": {},
     "output_type": "display_data"
    }
   ],
   "source": [
    "df_score_G3_from_G2_regr = friedman_nemenyi_tests_regr(df_G3_from_G2_regr, \"[G2]\")"
   ]
  },
  {
   "cell_type": "markdown",
   "metadata": {},
   "source": [
    "### Combinação [G1, G2]"
   ]
  },
  {
   "cell_type": "markdown",
   "metadata": {},
   "source": [
    "#### Busca dos melhores modelos"
   ]
  },
  {
   "cell_type": "code",
   "execution_count": 50,
   "metadata": {},
   "outputs": [],
   "source": [
    "X = base_regr.drop(columns = ['G3']).to_numpy()\n",
    "df_G3_from_G1_G2_regr = search_regr(X,y,n_splits,random_state,algorithms_regr, \"G3 from [G1, G2]\")"
   ]
  },
  {
   "cell_type": "markdown",
   "metadata": {},
   "source": [
    "##### Performance dos modelos"
   ]
  },
  {
   "cell_type": "code",
   "execution_count": 51,
   "metadata": {},
   "outputs": [
    {
     "data": {
      "text/html": [
       "<div>\n",
       "<style scoped>\n",
       "    .dataframe tbody tr th:only-of-type {\n",
       "        vertical-align: middle;\n",
       "    }\n",
       "\n",
       "    .dataframe tbody tr th {\n",
       "        vertical-align: top;\n",
       "    }\n",
       "\n",
       "    .dataframe thead th {\n",
       "        text-align: right;\n",
       "    }\n",
       "</style>\n",
       "<table border=\"1\" class=\"dataframe\">\n",
       "  <thead>\n",
       "    <tr style=\"text-align: right;\">\n",
       "      <th></th>\n",
       "      <th>MLP</th>\n",
       "      <th>SVM</th>\n",
       "      <th>KNN</th>\n",
       "      <th>DT</th>\n",
       "      <th>RF</th>\n",
       "    </tr>\n",
       "  </thead>\n",
       "  <tbody>\n",
       "    <tr>\n",
       "      <th>0</th>\n",
       "      <td>2.337539</td>\n",
       "      <td>2.858850</td>\n",
       "      <td>8.553846</td>\n",
       "      <td>5.676923</td>\n",
       "      <td>0.872974</td>\n",
       "    </tr>\n",
       "    <tr>\n",
       "      <th>1</th>\n",
       "      <td>1.863278</td>\n",
       "      <td>2.639468</td>\n",
       "      <td>7.092308</td>\n",
       "      <td>1.292308</td>\n",
       "      <td>0.901299</td>\n",
       "    </tr>\n",
       "    <tr>\n",
       "      <th>2</th>\n",
       "      <td>3.167137</td>\n",
       "      <td>4.872657</td>\n",
       "      <td>9.969231</td>\n",
       "      <td>3.415385</td>\n",
       "      <td>1.050137</td>\n",
       "    </tr>\n",
       "    <tr>\n",
       "      <th>3</th>\n",
       "      <td>2.258027</td>\n",
       "      <td>2.723089</td>\n",
       "      <td>10.492308</td>\n",
       "      <td>1.876923</td>\n",
       "      <td>0.904372</td>\n",
       "    </tr>\n",
       "    <tr>\n",
       "      <th>4</th>\n",
       "      <td>1.729284</td>\n",
       "      <td>2.507124</td>\n",
       "      <td>8.846154</td>\n",
       "      <td>1.454102</td>\n",
       "      <td>0.843355</td>\n",
       "    </tr>\n",
       "    <tr>\n",
       "      <th>5</th>\n",
       "      <td>4.580210</td>\n",
       "      <td>9.462763</td>\n",
       "      <td>11.969231</td>\n",
       "      <td>5.815385</td>\n",
       "      <td>3.469983</td>\n",
       "    </tr>\n",
       "    <tr>\n",
       "      <th>6</th>\n",
       "      <td>2.801276</td>\n",
       "      <td>4.126367</td>\n",
       "      <td>10.107692</td>\n",
       "      <td>3.846154</td>\n",
       "      <td>1.598603</td>\n",
       "    </tr>\n",
       "    <tr>\n",
       "      <th>7</th>\n",
       "      <td>5.333137</td>\n",
       "      <td>8.026512</td>\n",
       "      <td>11.938462</td>\n",
       "      <td>4.692308</td>\n",
       "      <td>3.481333</td>\n",
       "    </tr>\n",
       "    <tr>\n",
       "      <th>8</th>\n",
       "      <td>1.755958</td>\n",
       "      <td>3.018870</td>\n",
       "      <td>6.800000</td>\n",
       "      <td>3.080769</td>\n",
       "      <td>1.345868</td>\n",
       "    </tr>\n",
       "    <tr>\n",
       "      <th>9</th>\n",
       "      <td>3.131848</td>\n",
       "      <td>4.784033</td>\n",
       "      <td>8.781250</td>\n",
       "      <td>2.015625</td>\n",
       "      <td>1.888123</td>\n",
       "    </tr>\n",
       "  </tbody>\n",
       "</table>\n",
       "</div>"
      ],
      "text/plain": [
       "        MLP       SVM        KNN        DT        RF\n",
       "0  2.337539  2.858850   8.553846  5.676923  0.872974\n",
       "1  1.863278  2.639468   7.092308  1.292308  0.901299\n",
       "2  3.167137  4.872657   9.969231  3.415385  1.050137\n",
       "3  2.258027  2.723089  10.492308  1.876923  0.904372\n",
       "4  1.729284  2.507124   8.846154  1.454102  0.843355\n",
       "5  4.580210  9.462763  11.969231  5.815385  3.469983\n",
       "6  2.801276  4.126367  10.107692  3.846154  1.598603\n",
       "7  5.333137  8.026512  11.938462  4.692308  3.481333\n",
       "8  1.755958  3.018870   6.800000  3.080769  1.345868\n",
       "9  3.131848  4.784033   8.781250  2.015625  1.888123"
      ]
     },
     "execution_count": 51,
     "metadata": {},
     "output_type": "execute_result"
    }
   ],
   "source": [
    "df_G3_from_G1_G2_regr"
   ]
  },
  {
   "cell_type": "code",
   "execution_count": 52,
   "metadata": {},
   "outputs": [
    {
     "data": {
      "text/plain": [
       "MLP    2.895769\n",
       "SVM    4.501973\n",
       "KNN    9.455048\n",
       "DT     3.316588\n",
       "RF     1.635605\n",
       "dtype: float64"
      ]
     },
     "execution_count": 52,
     "metadata": {},
     "output_type": "execute_result"
    }
   ],
   "source": [
    "df_G3_from_G1_G2_regr.mean()"
   ]
  },
  {
   "cell_type": "code",
   "execution_count": 53,
   "metadata": {},
   "outputs": [
    {
     "data": {
      "text/plain": [
       "MLP    1.218407\n",
       "SVM    2.424461\n",
       "KNN    1.780245\n",
       "DT     1.679460\n",
       "RF     1.029924\n",
       "dtype: float64"
      ]
     },
     "execution_count": 53,
     "metadata": {},
     "output_type": "execute_result"
    }
   ],
   "source": [
    "df_G3_from_G1_G2_regr.std()"
   ]
  },
  {
   "cell_type": "markdown",
   "metadata": {},
   "source": [
    "#### Teste de Friedman e Nemenyi (se necessário)"
   ]
  },
  {
   "cell_type": "code",
   "execution_count": 54,
   "metadata": {},
   "outputs": [
    {
     "name": "stdout",
     "output_type": "stream",
     "text": [
      "Statistics=35.920, p=3.00545e-07\n",
      "Different distributions (reject H0)\n"
     ]
    },
    {
     "data": {
      "image/png": "[encoded data removed]",
      "text/plain": [
       "<Figure size 432x133.2 with 1 Axes>"
      ]
     },
     "metadata": {},
     "output_type": "display_data"
    }
   ],
   "source": [
    "df_score_G3_from_G1_G2_regr = friedman_nemenyi_tests_regr(df_G3_from_G1_G2_regr, \"[G1, G2]\")"
   ]
  },
  {
   "cell_type": "code",
   "execution_count": null,
   "metadata": {},
   "outputs": [],
   "source": []
  }
 ],
 "metadata": {
  "kernelspec": {
   "display_name": "Python 3",
   "language": "python",
   "name": "python3"
  },
  "language_info": {
   "codemirror_mode": {
    "name": "ipython",
    "version": 3
   },
   "file_extension": ".py",
   "mimetype": "text/x-python",
   "name": "python",
   "nbconvert_exporter": "python",
   "pygments_lexer": "ipython3",
   "version": "3.8.3"
  },
  "toc": {
   "base_numbering": 1,
   "nav_menu": {},
   "number_sections": true,
   "sideBar": true,
   "skip_h1_title": false,
   "title_cell": "Table of Contents",
   "title_sidebar": "Contents",
   "toc_cell": false,
   "toc_position": {},
   "toc_section_display": true,
   "toc_window_display": true
  },
  "varInspector": {
   "cols": {
    "lenName": 16,
    "lenType": 16,
    "lenVar": 40
   },
   "kernels_config": {
    "python": {
     "delete_cmd_postfix": "",
     "delete_cmd_prefix": "del ",
     "library": "var_list.py",
     "varRefreshCmd": "print(var_dic_list())"
    },
    "r": {
     "delete_cmd_postfix": ") ",
     "delete_cmd_prefix": "rm(",
     "library": "var_list.r",
     "varRefreshCmd": "cat(var_dic_list()) "
    }
   },
   "types_to_exclude": [
    "module",
    "function",
    "builtin_function_or_method",
    "instance",
    "_Feature"
   ],
   "window_display": false
  }
 },
 "nbformat": 4,
 "nbformat_minor": 4
}
