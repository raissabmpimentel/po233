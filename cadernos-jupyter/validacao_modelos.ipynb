{
 "cells": [
  {
   "cell_type": "markdown",
   "metadata": {},
   "source": [
    "# Validação das tarefas de aprendizado"
   ]
  },
  {
   "cell_type": "markdown",
   "metadata": {},
   "source": [
    "## Importações"
   ]
  },
  {
   "cell_type": "code",
   "execution_count": 1,
   "metadata": {
    "ExecuteTime": {
     "end_time": "2020-07-08T20:17:56.791104Z",
     "start_time": "2020-07-08T20:17:55.435353Z"
    }
   },
   "outputs": [],
   "source": [
    "import pandas as pd\n",
    "import matplotlib.pyplot as plt\n",
    "from scipy.stats import friedmanchisquare\n",
    "from sklearn.svm import SVC, SVR\n",
    "from sklearn.neighbors import KNeighborsClassifier, KNeighborsRegressor\n",
    "from sklearn.tree import DecisionTreeClassifier, DecisionTreeRegressor\n",
    "from sklearn.preprocessing import StandardScaler\n",
    "from sklearn.neural_network import MLPClassifier, MLPRegressor\n",
    "from sklearn.ensemble import RandomForestClassifier, RandomForestRegressor\n",
    "from sklearn.model_selection import StratifiedKFold, GridSearchCV, ShuffleSplit, KFold\n",
    "from sklearn.metrics import accuracy_score, make_scorer, mean_squared_error"
   ]
  },
  {
   "cell_type": "markdown",
   "metadata": {},
   "source": [
    "## Parâmetros gerais"
   ]
  },
  {
   "cell_type": "code",
   "execution_count": 2,
   "metadata": {
    "ExecuteTime": {
     "end_time": "2020-07-08T20:17:56.845417Z",
     "start_time": "2020-07-08T20:17:56.791104Z"
    }
   },
   "outputs": [],
   "source": [
    "n_splits = 10\n",
    "random_state = 17\n",
    "\n",
    "base = pd.read_csv('student-por.csv', sep = \";\")"
   ]
  },
  {
   "cell_type": "markdown",
   "metadata": {},
   "source": [
    "---"
   ]
  },
  {
   "cell_type": "markdown",
   "metadata": {},
   "source": [
    "## Tarefa de classificação"
   ]
  },
  {
   "cell_type": "markdown",
   "metadata": {},
   "source": [
    "### Função de pré-processamento"
   ]
  },
  {
   "cell_type": "code",
   "execution_count": 3,
   "metadata": {
    "ExecuteTime": {
     "end_time": "2020-07-08T20:17:56.854402Z",
     "start_time": "2020-07-08T20:17:56.846450Z"
    }
   },
   "outputs": [],
   "source": [
    "def preprocess_class(base):\n",
    "\n",
    "    base = base.drop(['school'], axis=1)\n",
    "    \n",
    "    base = base.replace(['LE3', 'GT3'], [0,1])\n",
    "    \n",
    "    items = ['sex', 'address','Pstatus','Mjob','Fjob','reason','guardian','schoolsup','famsup','paid','activities','nursery','higher',\n",
    "             'internet','romantic']\n",
    "    \n",
    "    for item in items:\n",
    "        base = pd.concat([base,pd.get_dummies(base[item], prefix=item)],axis=1)\n",
    "        base = base.drop([item],axis=1)\n",
    "    \n",
    "    base.loc[base['G3'] < 10, 'G3'] = 0\n",
    "    base.loc[base['G3'] >= 10, 'G3'] = 1\n",
    "    \n",
    "    return base"
   ]
  },
  {
   "cell_type": "markdown",
   "metadata": {},
   "source": [
    "### Função de treinamento e teste com base_class nos algoritmos escolhidos"
   ]
  },
  {
   "cell_type": "code",
   "execution_count": 4,
   "metadata": {
    "ExecuteTime": {
     "end_time": "2020-07-08T20:17:56.864369Z",
     "start_time": "2020-07-08T20:17:56.855394Z"
    }
   },
   "outputs": [],
   "source": [
    "def search_class(X, y, n_splits, random_state, algorithms):\n",
    "    \n",
    "    kf = StratifiedKFold(n_splits=n_splits, shuffle=True, random_state=random_state)\n",
    "    gskf = StratifiedKFold(n_splits=3, shuffle=True, random_state=random_state)\n",
    "    perf = accuracy_score\n",
    "    \n",
    "    score = {}\n",
    "    for algorithm in algorithms.keys():\n",
    "        score[algorithm] = []\n",
    "    \n",
    "    for algorithm, (clf, parameters) in algorithms.items():\n",
    "        for train, test in kf.split(X, y):\n",
    "            prep = StandardScaler()\n",
    "            prep.fit(X[train])\n",
    "            best = GridSearchCV(clf, parameters, cv=gskf, scoring=make_scorer(perf))\n",
    "            best.fit(prep.transform(X[train]), y[train])\n",
    "            score[algorithm].append(perf(best.predict(prep.transform(X[test])), y[test]))\n",
    "            \n",
    "    df_metrics = pd.DataFrame.from_dict(score)\n",
    "    return df_metrics"
   ]
  },
  {
   "cell_type": "markdown",
   "metadata": {},
   "source": [
    "### Função que executa o teste de Friedman e Nemenyi (se necessário)"
   ]
  },
  {
   "cell_type": "code",
   "execution_count": 5,
   "metadata": {
    "ExecuteTime": {
     "end_time": "2020-07-08T20:17:56.872355Z",
     "start_time": "2020-07-08T20:17:56.865366Z"
    }
   },
   "outputs": [],
   "source": [
    "def friedman_nemenyi_tests_class(df_metrics, title):   \n",
    "    \n",
    "    df_score = df_metrics.rank(axis=1, ascending=False)\n",
    "    \n",
    "    stat, p = friedmanchisquare(*[grp for idx, grp in df_score.iteritems()])\n",
    "    \n",
    "    print('Statistics=%.3f, p=%g' % (stat, p))\n",
    "    \n",
    "    alpha = 0.05\n",
    "    if p > alpha:\n",
    "        print('Same distributions (fail to reject H0)')\n",
    "    else:\n",
    "        print(\"Different distributions (reject H0)\")\n",
    "        names = list(df_score.columns)\n",
    "        avranks = df_score.mean().values.tolist()\n",
    "        cd = Orange.evaluation.compute_CD(avranks, n_splits)\n",
    "        Orange.evaluation.graph_ranks(avranks, names, cd=cd, width=6, textspace=1.5)\n",
    "        plt.title(title)\n",
    "        plt.show()\n",
    "    return df_score"
   ]
  },
  {
   "cell_type": "markdown",
   "metadata": {},
   "source": [
    "### Algoritmos e hiperparâmetros testados"
   ]
  },
  {
   "cell_type": "code",
   "execution_count": 6,
   "metadata": {
    "ExecuteTime": {
     "end_time": "2020-07-08T20:17:56.903016Z",
     "start_time": "2020-07-08T20:17:56.878091Z"
    }
   },
   "outputs": [],
   "source": [
    "algorithms_class = {\n",
    "    \"MLP\": (MLPClassifier(), { \"activation\": (\"identity\", \"logistic\", \"tanh\", \"relu\"), \"solver\": (\"lbfgs\", \"adam\"), \"max_iter\": [1000], \"random_state\": [1]}), \n",
    "    \"SVM\": (SVC(), {\"C\": [1, 10], \"kernel\": (\"linear\", \"rbf\"), \"random_state\": [2]}),\n",
    "    \"KNN\": (KNeighborsClassifier(), { \"n_neighbors\": [1, 3, 5] }),\n",
    "    \"DT\" : (DecisionTreeClassifier(), { \"criterion\": (\"gini\", \"entropy\"), \"max_depth\": [5, 10, 20], \"random_state\": [3]}),\n",
    "    \"RF\" : (RandomForestClassifier(), { \"criterion\": (\"gini\", \"entropy\"), \"max_depth\": [5, 10, 20], \"n_estimators\": [30,50,100], \"random_state\": [4]})\n",
    "}"
   ]
  },
  {
   "cell_type": "markdown",
   "metadata": {},
   "source": [
    "### Leitura da base_class, pré-processamento e definição do atributo-alvo"
   ]
  },
  {
   "cell_type": "code",
   "execution_count": 7,
   "metadata": {
    "ExecuteTime": {
     "end_time": "2020-07-08T20:17:56.961839Z",
     "start_time": "2020-07-08T20:17:56.905974Z"
    }
   },
   "outputs": [],
   "source": [
    "base_class = preprocess_class(base)\n",
    "\n",
    "y = base_class['G3'].to_numpy()"
   ]
  },
  {
   "cell_type": "markdown",
   "metadata": {},
   "source": [
    "### Combinação [  ]"
   ]
  },
  {
   "cell_type": "markdown",
   "metadata": {},
   "source": [
    "#### Busca dos melhores modelos"
   ]
  },
  {
   "cell_type": "code",
   "execution_count": 8,
   "metadata": {
    "ExecuteTime": {
     "end_time": "2020-07-08T20:20:54.111762Z",
     "start_time": "2020-07-08T20:17:56.963822Z"
    }
   },
   "outputs": [],
   "source": [
    "X = base_class.drop(columns = ['G1','G2','G3']).to_numpy()\n",
    "df_metrics_no_class = search_class(X,y,n_splits,random_state,algorithms_class)"
   ]
  },
  {
   "cell_type": "markdown",
   "metadata": {},
   "source": [
    "###### Performance dos modelos"
   ]
  },
  {
   "cell_type": "code",
   "execution_count": 9,
   "metadata": {
    "ExecuteTime": {
     "end_time": "2020-07-08T20:20:54.131407Z",
     "start_time": "2020-07-08T20:20:54.111762Z"
    }
   },
   "outputs": [
    {
     "data": {
      "text/html": [
       "<div>\n",
       "<style scoped>\n",
       "    .dataframe tbody tr th:only-of-type {\n",
       "        vertical-align: middle;\n",
       "    }\n",
       "\n",
       "    .dataframe tbody tr th {\n",
       "        vertical-align: top;\n",
       "    }\n",
       "\n",
       "    .dataframe thead th {\n",
       "        text-align: right;\n",
       "    }\n",
       "</style>\n",
       "<table border=\"1\" class=\"dataframe\">\n",
       "  <thead>\n",
       "    <tr style=\"text-align: right;\">\n",
       "      <th></th>\n",
       "      <th>MLP</th>\n",
       "      <th>SVM</th>\n",
       "      <th>KNN</th>\n",
       "      <th>DT</th>\n",
       "      <th>RF</th>\n",
       "    </tr>\n",
       "  </thead>\n",
       "  <tbody>\n",
       "    <tr>\n",
       "      <th>0</th>\n",
       "      <td>0.830769</td>\n",
       "      <td>0.815385</td>\n",
       "      <td>0.800000</td>\n",
       "      <td>0.876923</td>\n",
       "      <td>0.846154</td>\n",
       "    </tr>\n",
       "    <tr>\n",
       "      <th>1</th>\n",
       "      <td>0.861538</td>\n",
       "      <td>0.876923</td>\n",
       "      <td>0.830769</td>\n",
       "      <td>0.846154</td>\n",
       "      <td>0.830769</td>\n",
       "    </tr>\n",
       "    <tr>\n",
       "      <th>2</th>\n",
       "      <td>0.815385</td>\n",
       "      <td>0.876923</td>\n",
       "      <td>0.846154</td>\n",
       "      <td>0.800000</td>\n",
       "      <td>0.861538</td>\n",
       "    </tr>\n",
       "    <tr>\n",
       "      <th>3</th>\n",
       "      <td>0.846154</td>\n",
       "      <td>0.861538</td>\n",
       "      <td>0.876923</td>\n",
       "      <td>0.830769</td>\n",
       "      <td>0.846154</td>\n",
       "    </tr>\n",
       "    <tr>\n",
       "      <th>4</th>\n",
       "      <td>0.861538</td>\n",
       "      <td>0.861538</td>\n",
       "      <td>0.830769</td>\n",
       "      <td>0.907692</td>\n",
       "      <td>0.846154</td>\n",
       "    </tr>\n",
       "    <tr>\n",
       "      <th>5</th>\n",
       "      <td>0.769231</td>\n",
       "      <td>0.846154</td>\n",
       "      <td>0.753846</td>\n",
       "      <td>0.815385</td>\n",
       "      <td>0.861538</td>\n",
       "    </tr>\n",
       "    <tr>\n",
       "      <th>6</th>\n",
       "      <td>0.861538</td>\n",
       "      <td>0.861538</td>\n",
       "      <td>0.846154</td>\n",
       "      <td>0.876923</td>\n",
       "      <td>0.861538</td>\n",
       "    </tr>\n",
       "    <tr>\n",
       "      <th>7</th>\n",
       "      <td>0.830769</td>\n",
       "      <td>0.861538</td>\n",
       "      <td>0.815385</td>\n",
       "      <td>0.846154</td>\n",
       "      <td>0.830769</td>\n",
       "    </tr>\n",
       "    <tr>\n",
       "      <th>8</th>\n",
       "      <td>0.861538</td>\n",
       "      <td>0.846154</td>\n",
       "      <td>0.815385</td>\n",
       "      <td>0.846154</td>\n",
       "      <td>0.830769</td>\n",
       "    </tr>\n",
       "    <tr>\n",
       "      <th>9</th>\n",
       "      <td>0.859375</td>\n",
       "      <td>0.843750</td>\n",
       "      <td>0.875000</td>\n",
       "      <td>0.890625</td>\n",
       "      <td>0.859375</td>\n",
       "    </tr>\n",
       "  </tbody>\n",
       "</table>\n",
       "</div>"
      ],
      "text/plain": [
       "        MLP       SVM       KNN        DT        RF\n",
       "0  0.830769  0.815385  0.800000  0.876923  0.846154\n",
       "1  0.861538  0.876923  0.830769  0.846154  0.830769\n",
       "2  0.815385  0.876923  0.846154  0.800000  0.861538\n",
       "3  0.846154  0.861538  0.876923  0.830769  0.846154\n",
       "4  0.861538  0.861538  0.830769  0.907692  0.846154\n",
       "5  0.769231  0.846154  0.753846  0.815385  0.861538\n",
       "6  0.861538  0.861538  0.846154  0.876923  0.861538\n",
       "7  0.830769  0.861538  0.815385  0.846154  0.830769\n",
       "8  0.861538  0.846154  0.815385  0.846154  0.830769\n",
       "9  0.859375  0.843750  0.875000  0.890625  0.859375"
      ]
     },
     "execution_count": 9,
     "metadata": {},
     "output_type": "execute_result"
    }
   ],
   "source": [
    "df_metrics_no_class"
   ]
  },
  {
   "cell_type": "code",
   "execution_count": 10,
   "metadata": {
    "ExecuteTime": {
     "end_time": "2020-07-08T20:20:54.143375Z",
     "start_time": "2020-07-08T20:20:54.133403Z"
    }
   },
   "outputs": [
    {
     "data": {
      "text/plain": [
       "MLP    0.839784\n",
       "SVM    0.855144\n",
       "KNN    0.829038\n",
       "DT     0.853678\n",
       "RF     0.847476\n",
       "dtype: float64"
      ]
     },
     "execution_count": 10,
     "metadata": {},
     "output_type": "execute_result"
    }
   ],
   "source": [
    "df_metrics_no_class.mean()"
   ]
  },
  {
   "cell_type": "code",
   "execution_count": 11,
   "metadata": {
    "ExecuteTime": {
     "end_time": "2020-07-08T20:20:54.153349Z",
     "start_time": "2020-07-08T20:20:54.144372Z"
    }
   },
   "outputs": [
    {
     "data": {
      "text/plain": [
       "MLP    0.029913\n",
       "SVM    0.018210\n",
       "KNN    0.036312\n",
       "DT     0.034003\n",
       "RF     0.013239\n",
       "dtype: float64"
      ]
     },
     "execution_count": 11,
     "metadata": {},
     "output_type": "execute_result"
    }
   ],
   "source": [
    "df_metrics_no_class.std()"
   ]
  },
  {
   "cell_type": "markdown",
   "metadata": {},
   "source": [
    "#### Teste de Friedman e Nemenyi (se necessário)"
   ]
  },
  {
   "cell_type": "code",
   "execution_count": 12,
   "metadata": {
    "ExecuteTime": {
     "end_time": "2020-07-08T20:20:54.163330Z",
     "start_time": "2020-07-08T20:20:54.154346Z"
    }
   },
   "outputs": [
    {
     "name": "stdout",
     "output_type": "stream",
     "text": [
      "Statistics=7.474, p=0.112875\n",
      "Same distributions (fail to reject H0)\n"
     ]
    }
   ],
   "source": [
    "df_score_no_class = friedman_nemenyi_tests_class(df_metrics_no_class, \"[ ]\")"
   ]
  },
  {
   "cell_type": "markdown",
   "metadata": {},
   "source": [
    "### Combinação [G1]"
   ]
  },
  {
   "cell_type": "markdown",
   "metadata": {},
   "source": [
    "#### Busca dos melhores modelos"
   ]
  },
  {
   "cell_type": "code",
   "execution_count": null,
   "metadata": {
    "ExecuteTime": {
     "end_time": "2020-07-08T20:23:38.837427Z",
     "start_time": "2020-07-08T20:20:54.165316Z"
    }
   },
   "outputs": [],
   "source": [
    "X = base_class.drop(columns = ['G2','G3']).to_numpy()\n",
    "df_metrics_G1_class = search_class(X,y,n_splits,random_state,algorithms_class)"
   ]
  },
  {
   "cell_type": "markdown",
   "metadata": {},
   "source": [
    "###### Performance dos modelos"
   ]
  },
  {
   "cell_type": "code",
   "execution_count": null,
   "metadata": {
    "ExecuteTime": {
     "end_time": "2020-07-08T20:23:38.847380Z",
     "start_time": "2020-07-08T20:23:38.838352Z"
    }
   },
   "outputs": [],
   "source": [
    "df_metrics_G1_class"
   ]
  },
  {
   "cell_type": "code",
   "execution_count": null,
   "metadata": {
    "ExecuteTime": {
     "end_time": "2020-07-08T20:23:38.854365Z",
     "start_time": "2020-07-08T20:23:38.848326Z"
    }
   },
   "outputs": [],
   "source": [
    "df_metrics_G1_class.mean()"
   ]
  },
  {
   "cell_type": "code",
   "execution_count": null,
   "metadata": {
    "ExecuteTime": {
     "end_time": "2020-07-08T20:23:38.862326Z",
     "start_time": "2020-07-08T20:23:38.856304Z"
    }
   },
   "outputs": [],
   "source": [
    "df_metrics_G1_class.std()"
   ]
  },
  {
   "cell_type": "markdown",
   "metadata": {},
   "source": [
    "#### Teste de Friedman e Nemenyi (se necessário)"
   ]
  },
  {
   "cell_type": "code",
   "execution_count": null,
   "metadata": {
    "ExecuteTime": {
     "end_time": "2020-07-08T20:23:38.928122Z",
     "start_time": "2020-07-08T20:23:38.863285Z"
    }
   },
   "outputs": [],
   "source": [
    "df_score_G1_class = friedman_nemenyi_tests_class(df_metrics_G1_class, \"[G1]\")"
   ]
  },
  {
   "cell_type": "markdown",
   "metadata": {},
   "source": [
    "### Combinação [G2]"
   ]
  },
  {
   "cell_type": "markdown",
   "metadata": {},
   "source": [
    "#### Busca dos melhores modelos"
   ]
  },
  {
   "cell_type": "code",
   "execution_count": null,
   "metadata": {
    "ExecuteTime": {
     "end_time": "2020-07-08T20:26:27.287342Z",
     "start_time": "2020-07-08T20:23:38.929090Z"
    }
   },
   "outputs": [],
   "source": [
    "X = base_class.drop(columns = ['G1','G3']).to_numpy()\n",
    "df_metrics_G2_class = search_class(X,y,n_splits,random_state,algorithms_class)"
   ]
  },
  {
   "cell_type": "markdown",
   "metadata": {},
   "source": [
    "##### Performance dos modelos"
   ]
  },
  {
   "cell_type": "code",
   "execution_count": null,
   "metadata": {
    "ExecuteTime": {
     "end_time": "2020-07-08T20:26:27.302901Z",
     "start_time": "2020-07-08T20:26:27.287342Z"
    }
   },
   "outputs": [],
   "source": [
    "df_metrics_G2_class"
   ]
  },
  {
   "cell_type": "code",
   "execution_count": null,
   "metadata": {
    "ExecuteTime": {
     "end_time": "2020-07-08T20:26:27.316322Z",
     "start_time": "2020-07-08T20:26:27.305308Z"
    }
   },
   "outputs": [],
   "source": [
    "df_metrics_G2_class.mean()"
   ]
  },
  {
   "cell_type": "code",
   "execution_count": null,
   "metadata": {
    "ExecuteTime": {
     "end_time": "2020-07-08T20:26:27.323504Z",
     "start_time": "2020-07-08T20:26:27.317276Z"
    }
   },
   "outputs": [],
   "source": [
    "df_metrics_G2_class.std()"
   ]
  },
  {
   "cell_type": "markdown",
   "metadata": {},
   "source": [
    "#### Teste de Friedman e Nemenyi (se necessário)"
   ]
  },
  {
   "cell_type": "code",
   "execution_count": null,
   "metadata": {
    "ExecuteTime": {
     "end_time": "2020-07-08T20:26:27.380351Z",
     "start_time": "2020-07-08T20:26:27.325499Z"
    }
   },
   "outputs": [],
   "source": [
    "df_score_G2_class = friedman_nemenyi_tests_class(df_metrics_G2_class, \"[G2]\")"
   ]
  },
  {
   "cell_type": "markdown",
   "metadata": {},
   "source": [
    "### Combinação [G1, G2]"
   ]
  },
  {
   "cell_type": "markdown",
   "metadata": {},
   "source": [
    "#### Busca dos melhores modelos"
   ]
  },
  {
   "cell_type": "code",
   "execution_count": null,
   "metadata": {
    "ExecuteTime": {
     "end_time": "2020-07-08T20:29:12.356372Z",
     "start_time": "2020-07-08T20:26:27.381348Z"
    }
   },
   "outputs": [],
   "source": [
    "X = base_class.drop(columns = ['G3']).to_numpy()\n",
    "df_metrics_G1_G2_class = search_class(X,y,n_splits,random_state,algorithms_class)"
   ]
  },
  {
   "cell_type": "markdown",
   "metadata": {},
   "source": [
    "##### Performance dos modelos"
   ]
  },
  {
   "cell_type": "code",
   "execution_count": null,
   "metadata": {
    "ExecuteTime": {
     "end_time": "2020-07-08T20:29:12.365941Z",
     "start_time": "2020-07-08T20:29:12.356372Z"
    }
   },
   "outputs": [],
   "source": [
    "df_metrics_G1_G2_class"
   ]
  },
  {
   "cell_type": "code",
   "execution_count": null,
   "metadata": {
    "ExecuteTime": {
     "end_time": "2020-07-08T20:29:12.376911Z",
     "start_time": "2020-07-08T20:29:12.370927Z"
    }
   },
   "outputs": [],
   "source": [
    "df_metrics_G1_G2_class.mean()"
   ]
  },
  {
   "cell_type": "code",
   "execution_count": null,
   "metadata": {
    "ExecuteTime": {
     "end_time": "2020-07-08T20:29:12.384889Z",
     "start_time": "2020-07-08T20:29:12.379904Z"
    }
   },
   "outputs": [],
   "source": [
    "df_metrics_G1_G2_class.std()"
   ]
  },
  {
   "cell_type": "markdown",
   "metadata": {},
   "source": [
    "#### Teste de Friedman e Nemenyi (se necessário)"
   ]
  },
  {
   "cell_type": "code",
   "execution_count": null,
   "metadata": {
    "ExecuteTime": {
     "end_time": "2020-07-08T20:29:12.443769Z",
     "start_time": "2020-07-08T20:29:12.386886Z"
    }
   },
   "outputs": [],
   "source": [
    "df_score_G1_G2_class = friedman_nemenyi_tests_class(df_metrics_G1_G2_class, \"[G1, G2]\")"
   ]
  },
  {
   "cell_type": "markdown",
   "metadata": {},
   "source": [
    "---"
   ]
  },
  {
   "cell_type": "markdown",
   "metadata": {},
   "source": [
    "## Tarefas de Regressão"
   ]
  },
  {
   "cell_type": "markdown",
   "metadata": {},
   "source": [
    "### Função de pré-processamento"
   ]
  },
  {
   "cell_type": "code",
   "execution_count": null,
   "metadata": {},
   "outputs": [],
   "source": [
    "def preprocess_regr(base):\n",
    "\n",
    "    base = base.drop(['school'], axis=1)\n",
    "    base = base.replace(['LE3', 'GT3'], [0,1])\n",
    "    items = ['sex', 'address','Pstatus','Mjob','Fjob','reason','guardian','schoolsup','famsup','paid','activities','nursery','higher',\n",
    "             'internet','romantic']\n",
    "    \n",
    "    for item in items:\n",
    "        base = pd.concat([base,pd.get_dummies(base[item], prefix=item)],axis=1)\n",
    "        base = base.drop([item],axis=1)\n",
    "        \n",
    "    return base"
   ]
  },
  {
   "cell_type": "markdown",
   "metadata": {},
   "source": [
    "### Função de treinamento e teste com base nos algoritmos escolhidos"
   ]
  },
  {
   "cell_type": "code",
   "execution_count": null,
   "metadata": {},
   "outputs": [],
   "source": [
    "def search_regr(X, y, n_splits, random_state, algorithms, title):\n",
    "    kf = KFold(n_splits=10, shuffle=True, random_state=random_state)\n",
    "    gskf = KFold(n_splits=3, shuffle=True, random_state=random_state)\n",
    "    perf = mean_squared_error\n",
    "    \n",
    "    score = {}\n",
    "    for algorithm in algorithms.keys():\n",
    "        score[algorithm] = []\n",
    "    \n",
    "    for algorithm, (clf, parameters) in algorithms.items():\n",
    "        for train, test in kf.split(X, y):\n",
    "            prep = StandardScaler()\n",
    "            \n",
    "            prep.fit(X[train])\n",
    "            \n",
    "            best = GridSearchCV(clf, parameters, cv=gskf, scoring=make_scorer(perf))\n",
    "            best.fit(prep.transform(X[train]), y[train])\n",
    "            score[algorithm].append(perf(best.predict(prep.transform(X[test])), y[test]))\n",
    "            \n",
    "    df_metrics = pd.DataFrame.from_dict(score)\n",
    "    return df_metrics"
   ]
  },
  {
   "cell_type": "markdown",
   "metadata": {},
   "source": [
    "### Função que executa o teste de Friedman e Nemenyi (se necessário)"
   ]
  },
  {
   "cell_type": "code",
   "execution_count": null,
   "metadata": {},
   "outputs": [],
   "source": [
    "def friedman_nemenyi_tests_regr(df_metrics, title):   \n",
    "    \n",
    "    df_score = df_metrics.rank(axis=1, ascending=True)\n",
    "    \n",
    "    stat, p = friedmanchisquare(*[grp for idx, grp in df_score.iteritems()])\n",
    "    \n",
    "    print('Statistics=%.3f, p=%g' % (stat, p))\n",
    "    \n",
    "    alpha = 0.05\n",
    "    if p > alpha:\n",
    "        print('Same distributions (fail to reject H0)')\n",
    "    else:\n",
    "        print(\"Different distributions (reject H0)\")\n",
    "        names = list(df_score.columns)\n",
    "        avranks = df_score.mean().values.tolist()\n",
    "        cd = Orange.evaluation.compute_CD(avranks, n_splits)\n",
    "        Orange.evaluation.graph_ranks(avranks, names, cd=cd, width=6, textspace=1.5)\n",
    "        plt.title(title)\n",
    "        plt.show()\n",
    "    return df_score"
   ]
  },
  {
   "cell_type": "markdown",
   "metadata": {},
   "source": [
    "### Algoritmos e hiperparâmetros testados"
   ]
  },
  {
   "cell_type": "code",
   "execution_count": null,
   "metadata": {},
   "outputs": [],
   "source": [
    "algorithms_regr = {\n",
    "    \"MLP\": (MLPRegressor(), { \"activation\": [\"identity\", \"tanh\", \"relu\"], \"solver\": [\"lbfgs\", \"adam\"], \"max_iter\": [1500], \"random_state\": [1]}),\n",
    "    \"SVM\": (SVR(), {\"C\": [1.0], \"kernel\": (\"linear\", \"rbf\", \"poly\", \"sigmoid\")}),\n",
    "    \"KNN\": (KNeighborsRegressor(), { \"n_neighbors\": [1, 3, 5] }),\n",
    "    \"DT\" : (DecisionTreeRegressor(), { \"criterion\": (\"mse\", \"friedman_mse\", \"mae\"), \"max_depth\": [5, 10, 20], \"random_state\": [3]}),\n",
    "    \"RF\" : (RandomForestRegressor(), { \"criterion\": (\"mse\", \"mae\"), \"max_depth\": [5, 10, 20], \"n_estimators\": [30,50,100], \"random_state\": [4]})\n",
    "}"
   ]
  },
  {
   "cell_type": "markdown",
   "metadata": {},
   "source": [
    "### Leitura da base_regr, pré-processamento e definição do atributo-alvo"
   ]
  },
  {
   "cell_type": "code",
   "execution_count": null,
   "metadata": {},
   "outputs": [],
   "source": [
    "base_regr = preprocess_regr(base)\n",
    "\n",
    "y = base_regr['G3'].to_numpy()"
   ]
  },
  {
   "cell_type": "markdown",
   "metadata": {},
   "source": [
    "### Combinação [  ]"
   ]
  },
  {
   "cell_type": "markdown",
   "metadata": {},
   "source": [
    "#### Busca dos melhores modelos"
   ]
  },
  {
   "cell_type": "code",
   "execution_count": null,
   "metadata": {},
   "outputs": [],
   "source": [
    "X = base_regr.drop(columns = ['G3', 'G1', 'G2']).to_numpy()\n",
    "df_G3_regr = search_regr(X,y,n_splits,random_state,algorithms_regr, \"G3 from []\")"
   ]
  },
  {
   "cell_type": "markdown",
   "metadata": {},
   "source": [
    "##### Performance dos modelos"
   ]
  },
  {
   "cell_type": "code",
   "execution_count": null,
   "metadata": {},
   "outputs": [],
   "source": [
    "df_G3_regr"
   ]
  },
  {
   "cell_type": "code",
   "execution_count": null,
   "metadata": {},
   "outputs": [],
   "source": [
    "df_G3_regr.mean()"
   ]
  },
  {
   "cell_type": "code",
   "execution_count": null,
   "metadata": {},
   "outputs": [],
   "source": [
    "df_G3_regr.std()"
   ]
  },
  {
   "cell_type": "markdown",
   "metadata": {},
   "source": [
    "#### Teste de Friedman e Nemenyi (se necessário)"
   ]
  },
  {
   "cell_type": "code",
   "execution_count": null,
   "metadata": {},
   "outputs": [],
   "source": [
    "df_score_G3_regr = friedman_nemenyi_tests_regr(df_G3_regr, \"[]\")"
   ]
  },
  {
   "cell_type": "markdown",
   "metadata": {},
   "source": [
    "### Combinação [G1]"
   ]
  },
  {
   "cell_type": "markdown",
   "metadata": {},
   "source": [
    "#### Busca dos melhores modelos"
   ]
  },
  {
   "cell_type": "code",
   "execution_count": null,
   "metadata": {},
   "outputs": [],
   "source": [
    "X = base_regr.drop(columns = ['G3', 'G2']).to_numpy()\n",
    "df_G3_from_G1_regr = search_regr(X,y,n_splits,random_state,algorithms_regr, \"G3 from [G1]\")"
   ]
  },
  {
   "cell_type": "markdown",
   "metadata": {},
   "source": [
    "##### Performance dos modelos"
   ]
  },
  {
   "cell_type": "code",
   "execution_count": null,
   "metadata": {},
   "outputs": [],
   "source": [
    "df_G3_from_G1_regr"
   ]
  },
  {
   "cell_type": "code",
   "execution_count": null,
   "metadata": {},
   "outputs": [],
   "source": [
    "df_G3_from_G1_regr.mean()"
   ]
  },
  {
   "cell_type": "code",
   "execution_count": null,
   "metadata": {},
   "outputs": [],
   "source": [
    "df_G3_from_G1_regr.std()"
   ]
  },
  {
   "cell_type": "markdown",
   "metadata": {},
   "source": [
    "#### Teste de Friedman e Nemenyi (se necessário)"
   ]
  },
  {
   "cell_type": "code",
   "execution_count": null,
   "metadata": {},
   "outputs": [],
   "source": [
    "df_score_G3_from_G1_regr = friedman_nemenyi_tests_regr(df_G3_from_G1_regr, \"[G1]\")"
   ]
  },
  {
   "cell_type": "markdown",
   "metadata": {},
   "source": [
    "### Combinação [G2]"
   ]
  },
  {
   "cell_type": "markdown",
   "metadata": {},
   "source": [
    "#### Busca dos melhores modelos"
   ]
  },
  {
   "cell_type": "code",
   "execution_count": null,
   "metadata": {},
   "outputs": [],
   "source": [
    "X = base_regr.drop(columns = ['G3', 'G1']).to_numpy()\n",
    "df_G3_from_G2_regr = search_regr(X,y,n_splits,random_state,algorithms_regr, \"G3 from [G2]\")"
   ]
  },
  {
   "cell_type": "markdown",
   "metadata": {},
   "source": [
    "##### Performance dos modelos"
   ]
  },
  {
   "cell_type": "code",
   "execution_count": null,
   "metadata": {},
   "outputs": [],
   "source": [
    "df_G3_from_G2_regr"
   ]
  },
  {
   "cell_type": "code",
   "execution_count": null,
   "metadata": {},
   "outputs": [],
   "source": [
    "df_G3_from_G2_regr.mean()"
   ]
  },
  {
   "cell_type": "code",
   "execution_count": null,
   "metadata": {},
   "outputs": [],
   "source": [
    "df_G3_from_G2_regr.std()"
   ]
  },
  {
   "cell_type": "markdown",
   "metadata": {},
   "source": [
    "#### Teste de Friedman e Nemenyi (se necessário)"
   ]
  },
  {
   "cell_type": "code",
   "execution_count": null,
   "metadata": {},
   "outputs": [],
   "source": [
    "df_score_G3_from_G2_regr = friedman_nemenyi_tests_regr(df_G3_from_G2_regr, \"[G2]\")"
   ]
  },
  {
   "cell_type": "markdown",
   "metadata": {},
   "source": [
    "### Combinação [G1, G2]"
   ]
  },
  {
   "cell_type": "markdown",
   "metadata": {},
   "source": [
    "#### Busca dos melhores modelos"
   ]
  },
  {
   "cell_type": "code",
   "execution_count": null,
   "metadata": {},
   "outputs": [],
   "source": [
    "X = base_regr.drop(columns = ['G3']).to_numpy()\n",
    "df_G3_from_G1_G2_regr = search_regr(X,y,n_splits,random_state,algorithms_regr, \"G3 from [G1, G2]\")"
   ]
  },
  {
   "cell_type": "markdown",
   "metadata": {},
   "source": [
    "##### Performance dos modelos"
   ]
  },
  {
   "cell_type": "code",
   "execution_count": null,
   "metadata": {},
   "outputs": [],
   "source": [
    "df_G3_from_G1_G2_regr"
   ]
  },
  {
   "cell_type": "code",
   "execution_count": null,
   "metadata": {},
   "outputs": [],
   "source": [
    "df_G3_from_G1_G2_regr.mean()"
   ]
  },
  {
   "cell_type": "code",
   "execution_count": null,
   "metadata": {},
   "outputs": [],
   "source": [
    "df_G3_from_G1_G2_regr.std()"
   ]
  },
  {
   "cell_type": "markdown",
   "metadata": {},
   "source": [
    "#### Teste de Friedman e Nemenyi (se necessário)"
   ]
  },
  {
   "cell_type": "code",
   "execution_count": null,
   "metadata": {},
   "outputs": [],
   "source": [
    "df_score_G3_from_G1_G2_regr = friedman_nemenyi_tests_regr(df_G3_from_G1_G2_regr, \"[G1, G2]\")"
   ]
  },
  {
   "cell_type": "code",
   "execution_count": null,
   "metadata": {},
   "outputs": [],
   "source": []
  }
 ],
 "metadata": {
  "kernelspec": {
   "display_name": "Python 3",
   "language": "python",
   "name": "python3"
  },
  "language_info": {
   "codemirror_mode": {
    "name": "ipython",
    "version": 3
   },
   "file_extension": ".py",
   "mimetype": "text/x-python",
   "name": "python",
   "nbconvert_exporter": "python",
   "pygments_lexer": "ipython3",
   "version": "3.8.3"
  },
  "toc": {
   "base_numbering": 1,
   "nav_menu": {},
   "number_sections": true,
   "sideBar": true,
   "skip_h1_title": false,
   "title_cell": "Table of Contents",
   "title_sidebar": "Contents",
   "toc_cell": false,
   "toc_position": {},
   "toc_section_display": true,
   "toc_window_display": true
  },
  "varInspector": {
   "cols": {
    "lenName": 16,
    "lenType": 16,
    "lenVar": 40
   },
   "kernels_config": {
    "python": {
     "delete_cmd_postfix": "",
     "delete_cmd_prefix": "del ",
     "library": "var_list.py",
     "varRefreshCmd": "print(var_dic_list())"
    },
    "r": {
     "delete_cmd_postfix": ") ",
     "delete_cmd_prefix": "rm(",
     "library": "var_list.r",
     "varRefreshCmd": "cat(var_dic_list()) "
    }
   },
   "types_to_exclude": [
    "module",
    "function",
    "builtin_function_or_method",
    "instance",
    "_Feature"
   ],
   "window_display": false
  }
 },
 "nbformat": 4,
 "nbformat_minor": 4
}
